{
  "cells": [
    {
      "cell_type": "markdown",
      "metadata": {
        "id": "KICTR2HtEcU9"
      },
      "source": [
        "[![Open In Colab](https://colab.research.google.com/assets/colab-badge.svg)](https://drive.google.com/file/d/19QOjagB2QAKYgvbbGxf972iusMWjs9PD/view?usp=sharing)\n",
        "\n",
        "# About this notebook\n",
        "\n",
        "In this notebook, we apply CIDRE to the original example code in order to replicate the original experiments and aid in validating the results.\n",
        "\n",
        "**The purpose of this notebook is to validate that the original CIDRE code (i) is functional (ii) can successfully detect desired behaviours (iii) has been replicated by a third party (myself, Gregory Pollard).**\n",
        "\n",
        "This notebook uses lots of RAM and so can only be run with Google Colab Pro on a TPU runtime.\n",
        "\n",
        "# CITATION:\n",
        "\n",
        "The vanilla CIDRE algorithm was created by the authors below, the original CIDRE code resides on Github found [here](https://github.com/skojaku/cidre). The `detect_community()` mentioned in this notebook was also written by the authors.\n",
        "\n",
        "\n",
        "**Paper:** Detecting anomalous citation groups in journal networks\n",
        "\n",
        "**Authors:** Kojaku, Sadamori and Livan, Giacomo and Masuda, Naoki\n",
        "\n",
        "**Journal:** Sci. Rep.\n",
        "\n",
        "**Publisher:** Nature Publishing Group"
      ]
    },
    {
      "cell_type": "markdown",
      "metadata": {
        "id": "aLxSCdt2iRVl"
      },
      "source": [
        "# Preparation"
      ]
    },
    {
      "cell_type": "markdown",
      "source": [
        "CHANGE GOOGLE DRIVE TO GITHUB MAKE NEW ACCOUNT YOUR USED 1 GB FREE BANDWIDTH"
      ],
      "metadata": {
        "id": "wv_TMh_9U3K0"
      }
    },
    {
      "cell_type": "markdown",
      "metadata": {
        "id": "ILo2xh5yico6"
      },
      "source": [
        "## Install packages\n",
        "\n",
        "First, we install `cidre` package with `pip`:"
      ]
    },
    {
      "cell_type": "code",
      "source": [
        "from google.colab import drive\n",
        "drive.mount('/content/drive')\n",
        "%cd 'drive/MyDrive/CIDRE_Diss/Validation_Code/data/journal-citation'"
      ],
      "metadata": {
        "colab": {
          "base_uri": "https://localhost:8080/"
        },
        "id": "GA5UQntVUf74",
        "outputId": "c2ac08c8-a754-4237-9c9c-7d7b0b8de9e0"
      },
      "execution_count": 2,
      "outputs": [
        {
          "output_type": "stream",
          "name": "stdout",
          "text": [
            "Drive already mounted at /content/drive; to attempt to forcibly remount, call drive.mount(\"/content/drive\", force_remount=True).\n",
            "/content/drive/MyDrive/CIDRE_Diss/Validation_Code/data/journal-citation\n"
          ]
        }
      ]
    },
    {
      "cell_type": "code",
      "execution_count": 3,
      "metadata": {
        "colab": {
          "base_uri": "https://localhost:8080/"
        },
        "id": "MJtwwRBcF8iL",
        "outputId": "9fdabb9a-5c59-4ed9-8696-3a96df7f7380"
      },
      "outputs": [
        {
          "output_type": "stream",
          "name": "stdout",
          "text": [
            "Looking in indexes: https://pypi.org/simple, https://us-python.pkg.dev/colab-wheels/public/simple/\n",
            "Requirement already satisfied: cidre in /usr/local/lib/python3.7/dist-packages (0.0.1)\n",
            "Requirement already satisfied: tqdm>=4.49.0 in /usr/local/lib/python3.7/dist-packages (from cidre) (4.64.0)\n",
            "Requirement already satisfied: scipy>=1.5.2 in /usr/local/lib/python3.7/dist-packages (from cidre) (1.7.3)\n",
            "Requirement already satisfied: pandas>=1.1.0 in /usr/local/lib/python3.7/dist-packages (from cidre) (1.3.5)\n",
            "Requirement already satisfied: numpy>=1.16.5 in /usr/local/lib/python3.7/dist-packages (from cidre) (1.21.6)\n",
            "Requirement already satisfied: matplotlib==3.1.3 in /usr/local/lib/python3.7/dist-packages (from cidre) (3.1.3)\n",
            "Requirement already satisfied: seaborn>=0.11.0 in /usr/local/lib/python3.7/dist-packages (from cidre) (0.11.1)\n",
            "Requirement already satisfied: networkx>=2.0 in /usr/local/lib/python3.7/dist-packages (from cidre) (2.6.3)\n",
            "Requirement already satisfied: cycler>=0.10 in /usr/local/lib/python3.7/dist-packages (from matplotlib==3.1.3->cidre) (0.11.0)\n",
            "Requirement already satisfied: pyparsing!=2.0.4,!=2.1.2,!=2.1.6,>=2.0.1 in /usr/local/lib/python3.7/dist-packages (from matplotlib==3.1.3->cidre) (3.0.9)\n",
            "Requirement already satisfied: kiwisolver>=1.0.1 in /usr/local/lib/python3.7/dist-packages (from matplotlib==3.1.3->cidre) (1.4.3)\n",
            "Requirement already satisfied: python-dateutil>=2.1 in /usr/local/lib/python3.7/dist-packages (from matplotlib==3.1.3->cidre) (2.8.2)\n",
            "Requirement already satisfied: typing-extensions in /usr/local/lib/python3.7/dist-packages (from kiwisolver>=1.0.1->matplotlib==3.1.3->cidre) (4.1.1)\n",
            "Requirement already satisfied: pytz>=2017.3 in /usr/local/lib/python3.7/dist-packages (from pandas>=1.1.0->cidre) (2022.1)\n",
            "Requirement already satisfied: six>=1.5 in /usr/local/lib/python3.7/dist-packages (from python-dateutil>=2.1->matplotlib==3.1.3->cidre) (1.15.0)\n",
            "Looking in indexes: https://pypi.org/simple, https://us-python.pkg.dev/colab-wheels/public/simple/\n",
            "Requirement already satisfied: github-contents in /usr/local/lib/python3.7/dist-packages (0.2)\n",
            "Requirement already satisfied: requests in /usr/local/lib/python3.7/dist-packages (from github-contents) (2.23.0)\n",
            "Requirement already satisfied: urllib3!=1.25.0,!=1.25.1,<1.26,>=1.21.1 in /usr/local/lib/python3.7/dist-packages (from requests->github-contents) (1.24.3)\n",
            "Requirement already satisfied: idna<3,>=2.5 in /usr/local/lib/python3.7/dist-packages (from requests->github-contents) (2.10)\n",
            "Requirement already satisfied: chardet<4,>=3.0.2 in /usr/local/lib/python3.7/dist-packages (from requests->github-contents) (3.0.4)\n",
            "Requirement already satisfied: certifi>=2017.4.17 in /usr/local/lib/python3.7/dist-packages (from requests->github-contents) (2022.6.15)\n"
          ]
        }
      ],
      "source": [
        "!pip install cidre\n",
        "!pip install github-contents"
      ]
    },
    {
      "cell_type": "markdown",
      "metadata": {
        "id": "1URuALNHF6f8"
      },
      "source": [
        "## Loading libraries and pre-made methods\n",
        "\n",
        "Next, we load some libraries:"
      ]
    },
    {
      "cell_type": "code",
      "execution_count": 4,
      "metadata": {
        "id": "aKnjeGnnEcU_",
        "colab": {
          "base_uri": "https://localhost:8080/"
        },
        "outputId": "a2d73228-5916-4216-d5ec-7ce8e4334276"
      },
      "outputs": [
        {
          "output_type": "stream",
          "name": "stderr",
          "text": [
            "/usr/local/lib/python3.7/dist-packages/ipykernel_launcher.py:20: FutureWarning: Passing a negative integer is deprecated in version 1.0 and will not be supported in future version. Instead, use None to not limit the column width.\n"
          ]
        }
      ],
      "source": [
        "import sys\n",
        "import numpy as np\n",
        "from scipy import sparse\n",
        "import pandas as pd\n",
        "import cidre\n",
        "import networkx as nx\n",
        "import math\n",
        "import seaborn as sns\n",
        "import matplotlib.pyplot as plt\n",
        "from collections import defaultdict\n",
        "\n",
        "plt.rc('font', size=12)\n",
        "plt.rc('axes', titlesize=12)\n",
        "plt.rc('axes', labelsize=20)\n",
        "plt.rc('xtick', labelsize=12)\n",
        "plt.rc('ytick', labelsize=12)\n",
        "plt.rc('legend', fontsize=12)\n",
        "plt.rc('figure', titlesize=20)\n",
        "\n",
        "pd.set_option('display.max_colwidth', -1)"
      ]
    },
    {
      "cell_type": "markdown",
      "metadata": {
        "id": "cqTdCvHbMplr"
      },
      "source": [
        "Finding communities requires the graph-tool package. This can be installed easily on Unix machines with:\n",
        "\n",
        "\n",
        "\n",
        "```\n",
        "conda install -c conda-forge graph-tool\n",
        "```\n",
        "\n",
        "Or, in Google Colab, we may use:"
      ]
    },
    {
      "cell_type": "code",
      "execution_count": 5,
      "metadata": {
        "id": "VLK5QlVZMo7g"
      },
      "outputs": [],
      "source": [
        "%%capture\n",
        "!echo \"deb http://downloads.skewed.de/apt bionic main\" >> /etc/apt/sources.list\n",
        "!apt-key adv --keyserver keys.openpgp.org --recv-key 612DEFB798507F25\n",
        "!apt-get update\n",
        "!apt-get install python3-graph-tool python3-cairo python3-matplotlib\n",
        "import graph_tool.all as gt"
      ]
    },
    {
      "cell_type": "markdown",
      "source": [
        "## Defining `detect_community()`"
      ],
      "metadata": {
        "id": "joSnfkEnoRyy"
      }
    },
    {
      "cell_type": "markdown",
      "source": [
        "Before employing CIDRE, we need to detect the natural, healthy communities that form in journal networks and remove them. [In the original CIDRE paper](https://www.nature.com/articles/s41598-021-93572-3), the authors defined `detect_community()` that utilises the [graph-tool](https://graph-tool.skewed.de/) package to do this. It should be noted that we will not use this function in this notebook as detecting communities in the aggregated network can take a very long time."
      ],
      "metadata": {
        "id": "uhJ0jBYLxwbm"
      }
    },
    {
      "cell_type": "code",
      "source": [
        "def detect_community(A, K = None, **params):\n",
        "    \"\"\"Detect communities using the graph-tool package\n",
        "\n",
        "    :param A: adjacency matrix\n",
        "    :type A: scipy.csr_sparse_matrix\n",
        "    :param K: Maximum number of communities. If K = None, the number of communities is automatically determined by graph-tool.\n",
        "    :type K: int or None\n",
        "    :param params: parameters passed to graph_tool.gt.minimize_blockmodel_dl\n",
        "    \"\"\"\n",
        "    def to_graph_tool_format(adj, membership=None):\n",
        "        g = gt.Graph(directed=True)\n",
        "        r, c, v = sparse.find(adj)\n",
        "        nedges = v.size\n",
        "        edge_weights = g.new_edge_property(\"double\")\n",
        "        g.edge_properties[\"weight\"] = edge_weights\n",
        "        g.add_edge_list(\n",
        "            np.hstack([np.transpose((r, c)), np.reshape(v, (nedges, 1))]),\n",
        "            eprops=[edge_weights],\n",
        "        )\n",
        "        return g\n",
        "    G = to_graph_tool_format(A)\n",
        "\n",
        "    states = gt.minimize_blockmodel_dl(\n",
        "        G,\n",
        "        state_args=dict(eweight=G.ep.weight),\n",
        "        multilevel_mcmc_args = {\"B_max\": A.shape[0] if K is None else K },\n",
        "        **params\n",
        "    )\n",
        "    b = states.get_blocks()\n",
        "    return np.unique(np.array(b.a), return_inverse = True)[1]"
      ],
      "metadata": {
        "id": "nBB56X8pxvww"
      },
      "execution_count": 6,
      "outputs": []
    },
    {
      "cell_type": "markdown",
      "metadata": {
        "id": "WaAFxBmxZ1d6"
      },
      "source": [
        "\n",
        "# Constructing the Aggregated Network\n",
        "\n",
        "First, we generate the aggregated network used in the original study that was formed using the January 30th 2020 MAG data set snapshot. This network consists of all citations between all journals from 2000 to 2019 summed up. Here, we import the edge files for each yearly network. These networks were cleaned using `Datacleaner.py` applied to the aforementioned MAG snapshot. Each file is a collection of source-target MAG journal ID pairs with a weight for how many citations were passed from source to target, where the source is a paper from year T and the target is the journal of a cited paper from years T-1 or T-2 (JIF window)."
      ]
    },
    {
      "cell_type": "code",
      "source": [
        "# Find aggregated edge data\n",
        "\n",
        "years = [y for y in range(2000,2020)]\n",
        "\n",
        "# Load the node and edge files\n",
        "df_edges = []\n",
        "df_raw_edges = []\n",
        "\n",
        "for year in years:\n",
        "  temp_edges = pd.read_csv(\"https://media.githubusercontent.com/media/bogeye121212/CIDRE_Dissertation/master/Validation_Code/data/edges-{}-1.csv\".format(year), sep=\"\\t\")\n",
        "  temp_edges1 = pd.read_csv(\"https://media.githubusercontent.com/media/bogeye121212/CIDRE_Dissertation/master/Validation_Code/data/edges-{}-2.csv\".format(year), sep=\"\\t\")\n",
        "  temp_edges = temp_edges.append(temp_edges1)\n",
        "\n",
        "  df_edges += [temp_edges]\n",
        "\n",
        "df_edges = pd.concat(df_edges, ignore_index=True)\n",
        "\n",
        "nodes = np.unique(df_edges[[\"source\", \"target\"]].values.reshape(-1))\n",
        "edges = df_edges[[\"source\", \"target\", \"w\"]].values\n",
        "\n",
        "# Compute the mapping from node ids to id\n",
        "max_node_id = np.max(nodes)\n",
        "node2id = -np.ones(max_node_id + 1)\n",
        "node2id[nodes] = np.arange(nodes.size)\n",
        "\n",
        "# Remove edges that do not exist in nodes list\n",
        "edges = edges[(np.max(edges[:, :2], axis=1) <= max_node_id), :]\n",
        "\n",
        "edges[:, :2] = node2id[edges[:, :2].reshape(-1)].reshape((edges.shape[0], 2))\n",
        "\n",
        "# Remove edges that do not exist in nodes list again\n",
        "edges = edges[(np.min(edges[:, :2], axis=1) >= 0), :]\n",
        "\n",
        "# Adjacency matrix\n",
        "N = len(nodes)\n",
        "A = sparse.csr_matrix((edges[:, 2], (edges[:, 0], edges[:, 1])), shape=(N, N))\n",
        "\n",
        "print(A)"
      ],
      "metadata": {
        "colab": {
          "base_uri": "https://localhost:8080/"
        },
        "id": "LWBfsrVPiN2O",
        "outputId": "2471bce2-846e-4491-90ad-2f33384211a0"
      },
      "execution_count": 7,
      "outputs": [
        {
          "output_type": "stream",
          "name": "stdout",
          "text": [
            "  (0, 0)\t292\n",
            "  (0, 194)\t1\n",
            "  (0, 221)\t1\n",
            "  (0, 263)\t21\n",
            "  (0, 408)\t1\n",
            "  (0, 471)\t1\n",
            "  (0, 522)\t1\n",
            "  (0, 560)\t2\n",
            "  (0, 657)\t1\n",
            "  (0, 683)\t26\n",
            "  (0, 708)\t1\n",
            "  (0, 858)\t1\n",
            "  (0, 893)\t1\n",
            "  (0, 896)\t1\n",
            "  (0, 926)\t1\n",
            "  (0, 1056)\t1\n",
            "  (0, 1084)\t1\n",
            "  (0, 1408)\t1\n",
            "  (0, 1463)\t1\n",
            "  (0, 1558)\t1\n",
            "  (0, 1561)\t1\n",
            "  (0, 1670)\t1\n",
            "  (0, 1845)\t8\n",
            "  (0, 1966)\t1\n",
            "  (0, 2078)\t4\n",
            "  :\t:\n",
            "  (42355, 12122)\t3\n",
            "  (42355, 17299)\t2\n",
            "  (42355, 17883)\t1\n",
            "  (42355, 18113)\t1\n",
            "  (42355, 21657)\t1\n",
            "  (42355, 36752)\t2\n",
            "  (42356, 1035)\t1\n",
            "  (42356, 3848)\t1\n",
            "  (42356, 4334)\t1\n",
            "  (42356, 11977)\t1\n",
            "  (42356, 13089)\t1\n",
            "  (42356, 15948)\t1\n",
            "  (42356, 19048)\t1\n",
            "  (42356, 21943)\t1\n",
            "  (42356, 22070)\t1\n",
            "  (42356, 22287)\t1\n",
            "  (42356, 22549)\t1\n",
            "  (42356, 22643)\t1\n",
            "  (42356, 23080)\t1\n",
            "  (42356, 23555)\t1\n",
            "  (42356, 25111)\t1\n",
            "  (42356, 27062)\t1\n",
            "  (42356, 35677)\t1\n",
            "  (42356, 40237)\t1\n",
            "  (42356, 42356)\t2\n"
          ]
        }
      ]
    },
    {
      "cell_type": "markdown",
      "source": [
        "`A` is the adjacency matrix for the entire network of citations between journals from 1998 to 2020 according to the MAG data set (including citations from papers that were retracted from the MAG). We could detect the aggregated membership with `detect_community(A)`. However, this takes a very long time in Google Colab, so we will import the pre-made file here. Since we do this, we should delete all other data structures to save space."
      ],
      "metadata": {
        "id": "8-Hdo77ygt9Q"
      }
    },
    {
      "cell_type": "markdown",
      "source": [
        "`agg_comm = detect_community(A)`"
      ],
      "metadata": {
        "id": "b4RIxitPksUW"
      }
    },
    {
      "cell_type": "markdown",
      "source": [
        "Please run this segment instead:"
      ],
      "metadata": {
        "id": "Qg_KLQxRhwu4"
      }
    },
    {
      "cell_type": "code",
      "source": [
        "del A,N,df_edges, df_raw_edges, edges, max_node_id, node2id, nodes, temp_edges, temp_edges1, year\n",
        "\n",
        "agg_comm = pd.read_csv(\"https://media.githubusercontent.com/media/bogeye121212/CIDRE_Dissertation/master/Validation_Code/data/agg_comm.csv\",sep = \"\\t\")"
      ],
      "metadata": {
        "id": "DzdPUuXt7X8O"
      },
      "execution_count": 8,
      "outputs": []
    },
    {
      "cell_type": "markdown",
      "source": [
        "We're going to need to cycle over each yearly network, so let's make a function `load_net()` that can do this. Throughout this process, we need to construct the adjacency matrix for a given network, this must happen for the raw and non-raw edge tables, so we define a function `form_matrix()` to do this too.\n"
      ],
      "metadata": {
        "id": "c9WVA1f8sZCH"
      }
    },
    {
      "cell_type": "code",
      "source": [
        "def form_matrix(nodes, edges):\n",
        "\n",
        "  # Compute mapping: node_id -> id\n",
        "  max_node_id = np.max(nodes)\n",
        "  node2id = -np.ones(max_node_id + 1)\n",
        "  node2id[nodes] = np.arange(nodes.size)\n",
        "\n",
        "  # Remove edges with IDs past years of interest\n",
        "  edges = edges[(np.max(edges[:, :2], axis=1) <= max_node_id), :]\n",
        "\n",
        "  edges[:, :2] = node2id[edges[:, :2].reshape(-1)].reshape((edges.shape[0], 2))\n",
        "\n",
        "  # Remove edges with IDs before years of interest\n",
        "  edges = edges[(np.min(edges[:, :2], axis=1) >= 0), :]\n",
        "\n",
        "  # Adjacency matrix\n",
        "  N = len(nodes)\n",
        "  A = sparse.csr_matrix((edges[:, 2], (edges[:, 0], edges[:, 1])), shape=(N, N))\n",
        "\n",
        "  return A\n",
        "\n",
        "def load_net(year):\n",
        "\n",
        "  # Load edge files\n",
        "  df_edges = pd.read_csv(\"edges-{}-1.csv\".format(year), sep=\"\\t\")\n",
        "\n",
        "  for i in range(2,3):\n",
        "    edge_filename = \"edges-{}-{}.csv\".format(year,i)\n",
        "    temp = pd.read_csv(edge_filename, sep=\"\\t\")\n",
        "    df_edges = df_edges.append(temp,ignore_index = True)\n",
        "  \n",
        "  df_edges = df_edges.reset_index(drop=True)\n",
        "\n",
        "  nodes = np.unique(df_edges[[\"source\", \"target\"]].values.reshape(-1))\n",
        "\n",
        "  newnodes = []\n",
        "  for id in agg_comm[\"journal_id\"]:\n",
        "    if id in nodes:\n",
        "      newnodes.append(id)\n",
        "  nodes = np.array(newnodes.copy())\n",
        "\n",
        "  df_edges = df_edges[df_edges.source.isin(nodes)]\n",
        "\n",
        "  edges = df_edges[[\"source\", \"target\", \"w\"]].values\n",
        "\n",
        "  # Construct matrices\n",
        "  A = form_matrix(nodes, edges)\n",
        "\n",
        "  return A, nodes"
      ],
      "metadata": {
        "id": "4WD40vndsjRo"
      },
      "execution_count": 9,
      "outputs": []
    },
    {
      "cell_type": "markdown",
      "source": [
        "# Detecting anomalous groups in the network"
      ],
      "metadata": {
        "id": "h90lUvqZoBie"
      }
    },
    {
      "cell_type": "markdown",
      "source": [
        "Import each year's network and cycle over them, using the aggregated network as a null model to run CIDRE with. We use `theta = 0.15` to align with the JCR suppression policy, `alpha = 0.01` so that edges must be very significantly different to the aggregated network, `min_group_edge_num = 50` to replicate the parameters of the original study. Unfortunately, this process can also take a long time and so we shall import the detected cartels."
      ],
      "metadata": {
        "id": "V_drIFLgiBAq"
      }
    },
    {
      "cell_type": "markdown",
      "source": [
        "```python\n",
        "yearly_cartels = dict()\n",
        "\n",
        "for year in years:\n",
        "\n",
        "  #Load adjacency matrix\n",
        "  A_eff, nodes = load_net(year)\n",
        "\n",
        "  # Find comm membership for this year\n",
        "  year_comm_ids = (agg_comm.set_index(\"journal_id\").loc[nodes, \"community_id\"].values)\n",
        "\n",
        "  del A_gen\n",
        "   \n",
        "  # Employ CIDRE to detect cartels for this year\n",
        "  cidreobj = cidre.Cidre(group_membership = year_comm_ids, alpha = 0.01, min_edge_weight = 10)\n",
        "  groups = cidreobj.detect(A_eff, threshold = 0.15)\n",
        "\n",
        "  # Omit groups smaller than 50 citations as in the original study\n",
        "  groups = [group for group in groups if group.get_num_edges()>=50]\n",
        "\n",
        "  # Save results\n",
        "  yearly_cartels[year] = groups\n",
        "  print(\"Cartels detected for: \"+str(year))\n",
        "\n",
        "  del groups,A_eff\n",
        "  ```"
      ],
      "metadata": {
        "id": "mdu1EyiovYss"
      }
    },
    {
      "cell_type": "markdown",
      "source": [
        "Please run this segment instead:"
      ],
      "metadata": {
        "id": "N3t90K0wiWbA"
      }
    },
    {
      "cell_type": "code",
      "source": [
        "yearly_cartels = dict()\n",
        "\n",
        "for year in range(2000,2020):\n",
        "  yearly_cartels[year] = pd.read_csv(\"https://media.githubusercontent.com/media/bogeye121212/CIDRE_Dissertation/master/Validation_Code/data/cartels-{}.csv\".format(year),sep = \"\\t\")"
      ],
      "metadata": {
        "id": "Fdi8YDHlwQl5"
      },
      "execution_count": 11,
      "outputs": []
    },
    {
      "cell_type": "markdown",
      "source": [
        "# Validation of Results"
      ],
      "metadata": {
        "id": "PoRayvVmzWXQ"
      }
    },
    {
      "cell_type": "markdown",
      "source": [
        "With these cartels, let's recreate the barplot from the original paper detailing the number of groups detected by CIDRE yearly."
      ],
      "metadata": {
        "id": "9lIHq6V30F-d"
      }
    },
    {
      "cell_type": "code",
      "source": [
        "sizes = dict()\n",
        "for year in range(2000,2020):\n",
        "  sizes[str(year)] = yearly_cartels[year][\"group_id\"].nunique()\n",
        "\n",
        "plt.rcParams[\"figure.figsize\"] = [10, 8]\n",
        "plt.bar(sizes.keys(),sizes.values())\n",
        "plt.title('Figure 1 (a): The Number of Detected Groups Each Year')\n",
        "plt.xlabel('Year')\n",
        "plt.ylabel('Number of Detected Groups')\n",
        "plt.xticks(rotation=270)\n",
        "plt.show()\n"
      ],
      "metadata": {
        "colab": {
          "base_uri": "https://localhost:8080/",
          "height": 542
        },
        "id": "M5H0knezsx_i",
        "outputId": "4d65813b-123c-4f1e-ba1e-b46e8777764e"
      },
      "execution_count": 12,
      "outputs": [
        {
          "output_type": "display_data",
          "data": {
            "text/plain": [
              "<Figure size 720x576 with 1 Axes>"
            ],
            "image/png": "[encoded data removed]"
          },
          "metadata": {
            "needs_background": "light"
          }
        }
      ]
    },
    {
      "cell_type": "markdown",
      "source": [
        "Let's also recreate the boxplot detailing the size of detected groups for each group detected yearly. The Y-axis is scaled logarithmically."
      ],
      "metadata": {
        "id": "ijJaDSfO2udN"
      }
    },
    {
      "cell_type": "code",
      "source": [
        "sizes = dict()\n",
        "for year in range(2000,2020):\n",
        "  sizes[year] = yearly_cartels[year][\"group_id\"].value_counts()\n",
        "\n",
        "plt.rcParams[\"figure.figsize\"] = [10, 8]\n",
        "data = pd.DataFrame(sizes)\n",
        "ax = data[data.columns].plot(kind='box',color = \"k\")\n",
        "\n",
        "plt.yscale('log')\n",
        "plt.xticks(rotation=270)\n",
        "plt.title(\"Figure 1 (b): The Number of Journals in a Group (log scaled)\")\n",
        "plt.xlabel(\"Year\")\n",
        "plt.ylabel(\"Number of Journals in a Group\")\n",
        "\n",
        "# Display the plot\n",
        "plt.show()"
      ],
      "metadata": {
        "colab": {
          "base_uri": "https://localhost:8080/",
          "height": 597
        },
        "id": "X_xf-TlJs9ST",
        "outputId": "005569aa-94ca-492e-a695-2ace7d20f343"
      },
      "execution_count": 13,
      "outputs": [
        {
          "output_type": "stream",
          "name": "stderr",
          "text": [
            "/usr/local/lib/python3.7/dist-packages/matplotlib/cbook/__init__.py:1449: VisibleDeprecationWarning: Creating an ndarray from ragged nested sequences (which is a list-or-tuple of lists-or-tuples-or ndarrays with different lengths or shapes) is deprecated. If you meant to do this, you must specify 'dtype=object' when creating the ndarray.\n",
            "  X = np.atleast_1d(X.T if isinstance(X, np.ndarray) else np.asarray(X))\n"
          ]
        },
        {
          "output_type": "display_data",
          "data": {
            "text/plain": [
              "<Figure size 720x576 with 1 Axes>"
            ],
            "image/png": "[encoded data removed]"
          },
          "metadata": {
            "needs_background": "light"
          }
        }
      ]
    },
    {
      "cell_type": "markdown",
      "source": [
        "# Evaluation"
      ],
      "metadata": {
        "id": "wDgqSMfm208z"
      }
    },
    {
      "cell_type": "markdown",
      "source": [
        "A final step in validating the works of the original authors is to ensure that the groups presented in the plots above are identical to those found in the study.\n",
        "\n",
        "First, we import the journal names of suppressed donor-recipient pairs identified by Clarivate and exluded from Journal Citation Reports from 2011 to 2020 (citation-stacking had only been identified as a behaviour from 2011 onwards). We treat these donor-recipient pairs as sets.\n",
        "\n",
        "Next, we take the union of any sets with common elements to form our citation cartels. For example, if journal A is a donor for B, but also C, then {A, B, C} is a cartel."
      ],
      "metadata": {
        "id": "IHWvFRlA24_J"
      }
    },
    {
      "cell_type": "code",
      "source": [
        "# Import donor recipient pairs identified by JCR\n",
        "\n",
        "JCR_donor_recipients = pd.read_csv(\"https://media.githubusercontent.com/media/bogeye121212/CIDRE_Dissertation/master/Validation_Code/data/donor_recipient_pairs.csv\",sep=\"\\t\")\n",
        "JCR_cartels_yearly = pd.DataFrame(columns = ['Year','Cartel'])\n",
        "group_id = 1\n",
        "\n",
        "for i in range(2011,2020):\n",
        "  JCR_pairs = pd.DataFrame(columns=['Recipient','Donor']) \n",
        "  for index, row in JCR_donor_recipients[::-1].iterrows():\n",
        "    if row['YearReported'] == i:\n",
        "      JCR_pairs = JCR_pairs.append({'Recipient':row[1].lower(),'Donor':row[2].lower()}, ignore_index = True)\n",
        "\n",
        "  # Find union of pairs with common journals to form the test data\n",
        "\n",
        "  JCR_cartels_pairs = list()\n",
        "  JCR_cartels = dict.fromkeys(['Year','Cartel'])\n",
        "\n",
        "  for index, row in JCR_pairs.iterrows():\n",
        "    JCR_cartels_pairs.append(set(row))\n",
        "\n",
        "  JCR_cartels_pairs = set(frozenset(s) for s in JCR_cartels_pairs)\n",
        "\n",
        "  while JCR_cartels_pairs:                                                                   \n",
        "    r = set(JCR_cartels_pairs.pop())\n",
        "\n",
        "    for rr in JCR_cartels_pairs.copy():\n",
        "      if rr & r:                                                  \n",
        "        JCR_cartels_pairs.remove(rr)\n",
        "        r.update(rr) \n",
        "\n",
        "    if JCR_cartels['Year'] == None:\n",
        "      if 'ieee transactions on industrial informatics' in list(frozenset(r)):\n",
        "        r.update({'information technology & management'})\n",
        "      \n",
        "      JCR_cartels['Group_ID_text'] = [\"J \" + str(group_id)]\n",
        "      JCR_cartels['Group_ID'] = [group_id]\n",
        "      group_id += 1\n",
        "      JCR_cartels['Year'] = [i]   \n",
        "      JCR_cartels['Cartel'] = [list(frozenset(r))]\n",
        "\n",
        "    else:\n",
        "      if 'ieee transactions on industrial informatics' in list(frozenset(r)):\n",
        "        pass\n",
        "\n",
        "      else:\n",
        "        JCR_cartels['Group_ID_text'].append(\"J \"+str(group_id))\n",
        "        JCR_cartels['Group_ID'].append(group_id)\n",
        "        group_id += 1\n",
        "        JCR_cartels['Year'].append(i)\n",
        "        JCR_cartels['Cartel'].append(list(frozenset(r)))\n",
        "\n",
        "\n",
        "\n",
        "  temp = pd.DataFrame(JCR_cartels, columns=['Group_ID','Group_ID_text','Year','Cartel'])\n",
        "  JCR_cartels_yearly = JCR_cartels_yearly.append(temp)\n",
        "\n",
        "# Print the test data (cartels every year from 2000 to 2019)\n",
        "\n",
        "JCR_cartels_yearly['Group_ID'] = JCR_cartels_yearly['Group_ID'].astype(int)\n",
        "print(\"The 22 cartels detected by Clarivate:\")\n",
        "print(JCR_cartels_yearly[['Group_ID','Year','Cartel']])"
      ],
      "metadata": {
        "colab": {
          "base_uri": "https://localhost:8080/"
        },
        "id": "m5hZsG827MjM",
        "outputId": "1e8c4af0-99cb-4494-aef5-ed7825713ea7"
      },
      "execution_count": 14,
      "outputs": [
        {
          "output_type": "stream",
          "name": "stdout",
          "text": [
            "The 22 cartels detected by Clarivate:\n",
            "   Group_ID  Year  \\\n",
            "0  1         2011   \n",
            "0  2         2012   \n",
            "1  3         2012   \n",
            "2  4         2012   \n",
            "3  5         2012   \n",
            "0  6         2013   \n",
            "1  7         2013   \n",
            "2  8         2013   \n",
            "3  9         2013   \n",
            "4  10        2013   \n",
            "5  11        2013   \n",
            "0  12        2014   \n",
            "1  13        2014   \n",
            "2  14        2014   \n",
            "3  15        2014   \n",
            "0  16        2015   \n",
            "0  17        2016   \n",
            "1  18        2016   \n",
            "0  19        2017   \n",
            "1  20        2017   \n",
            "0  21        2018   \n",
            "1  22        2018   \n",
            "\n",
            "                                                                                                                                                        Cartel  \n",
            "0  [the scientific world journal, cell transplantation, medical science monitor]                                                                                \n",
            "0  [european journal of inflammation, journal of biological regulators and homeostatic agents, international journal of immunopathology and pharmacology]       \n",
            "1  [acta ortopedica brasileira, revista da associacao medica brasileira, clinics, jornal brasileiro de pneumologia]                                             \n",
            "2  [progress in electromagnetics research pier, journal of electromagnetic waves and applications]                                                              \n",
            "3  [progress in biochemistry and biophysics, science china life sciences]                                                                                       \n",
            "0  [service industries journal, management decision, international entrepreneurship and management journal]                                                     \n",
            "1  [zeitschrift fur psychosomatische medizin und psychotherapie, zeitschrift fur psychiatrie psychologie und psychotherapie]                                    \n",
            "2  [medicinal chemistry research, journal of saudi chemical society]                                                                                            \n",
            "3  [enterprise information systems, international journal of production economics, systems research and behavioral science]                                     \n",
            "4  [postepy dermatologii i alergologii, annals of agricultural and environmental medicine]                                                                      \n",
            "5  [international journal of photoenergy, nuclear technology & radiation protection]                                                                            \n",
            "0  [information technology & management, ieee transactions on industrial informatics, systems research and behavioral science, enterprise information systems]  \n",
            "1  [jpc-journal of planar chromatography-modern tlc, central european journal of chemistry]                                                                     \n",
            "2  [pakistan veterinary journal, international journal of agriculture and biology]                                                                              \n",
            "3  [journal of vibration and control, human factors and ergonomics in manufacturing and service industries]                                                     \n",
            "0  [methods of information in medicine, applied clinical informatics]                                                                                           \n",
            "0  [journal of ceramic processing research, korean journal of metals and materials]                                                                             \n",
            "1  [translational stroke research, medical gas research]                                                                                                        \n",
            "0  [european journal of the history of economic thought, history of economic ideas, journal of the history of economic thought]                                 \n",
            "1  [oncology, digestive diseases, liver cancer]                                                                                                                 \n",
            "0  [bone research, journal of biobased materials and bioenergy, nanoscience and nanotechnology letters, journal of biomedical nanotechnology]                   \n",
            "1  [journal of seismic exploration, journal of applied geophysics, journal of geophysics and engineering]                                                       \n"
          ]
        }
      ]
    },
    {
      "cell_type": "markdown",
      "source": [
        "Let's quickly plot these cartels and the year they were discovered by Clarivate in preparation for recreating Figure 2 (a) in the original paper."
      ],
      "metadata": {
        "id": "XsgTLDHHsZ1L"
      }
    },
    {
      "cell_type": "code",
      "source": [
        "plt.rcParams[\"figure.figsize\"] = [8, 8]\n",
        "plt.rcParams.update({'font.size': 10})\n",
        "plt.scatter(JCR_cartels_yearly['Year'],JCR_cartels_yearly['Group_ID'],facecolors='none', edgecolors='b')\n",
        "plt.yticks(range(1,24),labels = JCR_cartels_yearly['Group_ID_text'])\n",
        "plt.title(\"Figure 2 (a): Groups Suspended from JCR\")\n",
        "plt.xlabel(\"Year\")\n",
        "plt.ylabel(\"Groups Suspended from JCR\")\n",
        "plt.show()"
      ],
      "metadata": {
        "colab": {
          "base_uri": "https://localhost:8080/",
          "height": 525
        },
        "id": "8FhoYrXnnPtO",
        "outputId": "5dcbf11a-dbad-4350-a595-e9176a2de8e6"
      },
      "execution_count": 15,
      "outputs": [
        {
          "output_type": "display_data",
          "data": {
            "text/plain": [
              "<Figure size 576x576 with 1 Axes>"
            ],
            "image/png": "[encoded data removed]"
          },
          "metadata": {
            "needs_background": "light"
          }
        }
      ]
    },
    {
      "cell_type": "markdown",
      "source": [
        "Above we have the 22 cartels formed from donor-recipient pairs suppressed from JCR reports since the citation-stacking behaviour was idenitified in 2011. We can now define this problem as a binary classification task in which journals within these 22 pairs are of the positive class, and all other journals are in the negative class. This means our positive class is incredibly rare, but also we care greatly about classifying these positive data points, and so we focus our evaluation on prcision and recall.\n",
        "\n",
        "However, cannot simply take the overall precision and recall of all journals, claiming that CIDRe has performed well if it identifies individual journals that are suspicious. We instead wish to ask if CIDRE has detected these 22 cartels themselves, not just the individual journals. The success of CIDRE hinges on whether we can identify \"bad\" communities in the given network. Bad in a sense that each community represents a suspicious and cohesive group of journals citing each other in the network.\n",
        "\n",
        "To keep our evaluation consistent with the original study, we have many of what I will define as 'classification tests'. For a given cartel in a given year $t$ (denoted $jcr_{t} \\in JCR_{t}$), and for a given group detected by CIDRE in the same year (denoted $ci_{t} \\in CI_{t}$) we have a classification test in which $ci_{t}$ is the set of positive predictions, and $jcr_{t}$ is the set of 'ground-truth' positive examples. Note that both $ci_{t}$ and $jcr_{t}$ are contained within $J_{t}$, the set of all journals of interest within the JIF time window $[t,t-2]$.\n",
        "\n",
        "Thus, for a given pair ($jcr_{t}$,$ci_{t}$) in which a common journal is shared, we have a classification test where:\n",
        "\n",
        "Precision = \"overlap\" = $O = \\frac{|jcr_{t} \\: \\cap \\: ci_{t}|}{|ci_{t}|}$.\n",
        "\n",
        "Recall = $R =\\frac{|jcr_{t} \\: \\cap \\: ci_{t}|}{|jcr_{t}|} $.\n",
        "\n",
        "NOTE: We must have one common journal betwween the pairs to test them as this implies an instance wheere CIDRE is attempting to identify the corresponding JCR cartel. All JCR and CIDRE groups are disjoint in order to align with this methodology.\n",
        "\n",
        "Below we calculate the precision and recall for any pair that share a common journal and claim (as in the original study) that CIDRE a group $ci_{t}$ detects $jcr_{t}$ successfully if together they have $O \\geq 0.5$ and share at least two journals. \n",
        "\n",
        "But first, we must import the MAG journal names and convert the groups detected by CIDRE into their real journal names."
      ],
      "metadata": {
        "id": "Hswl1zCy992O"
      }
    },
    {
      "cell_type": "code",
      "source": [
        "journal_names = pd.read_csv(\"https://media.githubusercontent.com/media/bogeye121212/CIDRE_Dissertation/master/Validation_Code/data/ALLjournal_id-name.csv\",sep = \"\\t\").set_index('journal_id')\n",
        "cidre_groups = dict()\n",
        "\n",
        "for year in range(2000,2020):\n",
        "  yearly_cart = yearly_cartels[year]\n",
        "  keys = range(0,np.max(yearly_cart['group_id']+1))\n",
        "  groups = dict.fromkeys(keys)\n",
        "  for index, row in yearly_cart.iterrows():\n",
        "\n",
        "    if groups[row['group_id']] == None:\n",
        "      groups[row['group_id']] = [journal_names.loc[row['mag_journal_id']]['name']]\n",
        "      groups[row['group_id']] = list(set(groups[row['group_id']]))\n",
        "\n",
        "    else:\n",
        "      groups[row['group_id']].append(journal_names.loc[row['mag_journal_id']]['name'])\n",
        "      groups[row['group_id']] = list(set(groups[row['group_id']]))\n",
        "\n",
        "  cidre_groups[year] = groups\n",
        "\n",
        "for year in range(2000,2020):\n",
        "  print(year,cidre_groups[year])"
      ],
      "metadata": {
        "id": "VZHEuaTiwu0S",
        "colab": {
          "base_uri": "https://localhost:8080/"
        },
        "outputId": "e0760ece-9547-4131-81d2-c7d319199c35"
      },
      "execution_count": 16,
      "outputs": [
        {
          "output_type": "stream",
          "name": "stdout",
          "text": [
            "2000 {0: ['revue historique', 'the historical journal', 'revue d histoire des sciences', 'studies in twentieth and twenty first century literature', 'french historical studies', 'contemporary french civilization'], 1: ['journal of labor research', 'labor history', 'workingusa', 'labor studies journal', 'review of social economy', 'international labor and working class history'], 2: ['explicator', 'victorian studies', 'archives of natural history', 'the journal of imperial and commonwealth history', 'cahiers victoriens & edouardiens', 'international journal of the history of sport', 'notes and queries', 'history of education'], 3: ['journal of endovascular therapy', 'journal of endovascular surgery'], 4: ['journal of visual impairment & blindness', 'visual impairment research', 'british journal of visual impairment'], 5: ['journal of mathematical imaging and vision', 'ieice transactions on information and systems', 'computer vision and image understanding', 'journal of visual communication and image representation', 'image and vision computing', 'international journal of pattern recognition and artificial intelligence', 'pattern recognition letters'], 6: ['european journal of education', 'international journal of science education', 'international journal of lifelong education', 'studies in educational evaluation', 'higher education in europe', 'russian education and society', 'higher education policy', 'critical studies in education', 'chinese education and society', 'asia pacific journal of teacher education', 'compare', 'international journal of educational reform', 'comparative education review', 'mediterranean journal of educational studies', 'studies in the education of adults', 'journal of multilingual and multicultural development']}\n",
            "2001 {0: ['revue historique', 'cahiers d histoire', 'annales historiques de la revolution francaise', 'french history', 'contemporary french civilization', 'french historical studies', 'annales histoire sciences sociales'], 1: ['journal of accounting education', 'accounting education', 'meditari accountancy research', 'issues in accounting education'], 2: ['communications of the acm', 'international journal of human computer studies international journal of man machine studies', 'ethics and information technology', 'arxiv information retrieval', 'technical communication quarterly', 'acm sigcas computers and society', 'acm journal of computer documentation', 'arxiv human computer interaction', 'communication research reports'], 3: ['journal of international development', 'international planning studies', 'environment and urbanization', 'south african journal of economics'], 4: ['critical sociology', 'journal of labor research', 'labor history', 'labor studies journal', 'international labor and working class history'], 5: ['english literature in transition 1880 1920', 'victorian studies', 'archives of natural history', 'albion', 'endeavour', 'notes and queries', 'history of photography'], 6: ['higher education in europe', 'russian education and society', 'indian journal of open learning', 'asia pacific journal of education', 'assessment in education principles policy & practice', 'higher education policy', 'european journal of special needs education', 'intercultural education', 'comparative education review', 'international journal of educational research', 'mediterranean journal of educational studies', 'international journal of lifelong education', 'chinese education and society'], 7: ['boreas', 'global and planetary change'], 8: ['journal of technology in human services', 'journal of social work education', 'research on social work practice'], 9: ['cataloging & classification quarterly', 'library resources & technical services', 'international cataloguing and bibliographic control', 'the journal of internet cataloging'], 10: ['archaeological dialogues', 'l anthropologie', 'journal of human evolution', 'britannia']}\n",
            "2002 {0: ['computational statistics & data analysis', 'the american statistician', 'communications in statistics theory and methods', 'canadian journal of statistics revue canadienne de statistique'], 1: ['the accounting review', 'issues in accounting education', 'accounting organizations and society', 'accounting horizons', 'accounting review a quarterly journal of the american accounting association'], 2: ['european journal of education', 'international journal of bilingual education and bilingualism', 'european journal of teacher education', 'international journal of educational development', 'comparative education', 'higher education in europe', 'russian education and society', 'assessment in education principles policy & practice', 'higher education policy', 'scandinavian journal of educational research', 'european journal of special needs education', 'intercultural education', 'comparative education review', 'international journal of lifelong education', 'chinese education and society'], 3: ['arxiv logic', 'algebras and representation theory', 'arxiv rings and algebras', 'bulletin of the london mathematical society', 'arxiv group theory', 'north holland mathematical library', 'journal of mathematical logic', 'bulletin of the australian mathematical society'], 4: ['journal of employment counseling', 'journal of career assessment', 'international journal for educational and vocational guidance', 'journal of career development', 'career development quarterly'], 5: ['cryptogamie bryologie', 'arctoa a jornal of bryology', 'journal of bryology']}\n",
            "2003 {0: ['accounting and business research', 'european accounting review', 'the accounting historians journal', 'accounting history review', 'accounting history'], 1: ['ethnic and racial studies', 'russian education and society', 'development in practice', 'journal of ethnic and migration studies', 'journal of higher education policy and management', 'social identities', 'journal of muslim minority affairs', 'educational media international', 'journal of youth studies', 'journal of southern african studies', 'international journal of intercultural relations', 'islam and christian muslim relations', 'comparative education review', 'religion state and society', 'journal of geography in higher education', 'asian ethnicity', 'europe asia studies', 'international journal of lifelong education', 'journal of intercultural studies', 'european journal of teacher education', 'higher education in europe'], 2: ['journal of accounting education', 'accounting education', 'issues in accounting education'], 3: ['mathematical and computer modelling', 'mathematical models and methods in applied sciences'], 4: ['journal of career assessment', 'international journal for educational and vocational guidance', 'journal of career development', 'career development quarterly', 'asia pacific education review'], 5: ['cartography and geographic information science', 'european urban and regional studies', 'tijdschrift voor economische en sociale geografie', 'progress in human geography', 'health & place', 'environment and planning d society & space', 'political geography', 'urban geography', 'cultural geographies', 'the professional geographer'], 6: ['chinese journal of geophysics', 'acta seismologica sinica']}\n",
            "2004 {0: ['quimica nova', 'journal of the brazilian chemical society', 'microchemical journal'], 1: ['mathematical and computer modelling', 'mathematical models and methods in applied sciences', 'ieee robotics & automation magazine'], 2: ['career development quarterly', 'journal of vocational behavior', 'australian journal of career development', 'journal of career development'], 3: ['chemistry of heterocyclic compounds', 'nucleosides nucleotides & nucleic acids', 'journal of carbohydrate chemistry', 'russian journal of organic chemistry', 'journal of chemical research s', 'cheminform'], 4: ['proceedings of spie', 'high power lasers and applications', 'astronomical telescopes and instrumentation']}\n",
            "2005 {0: ['mathematical and computer modelling', 'mathematical models and methods in applied sciences', 'the journal of defense modeling and simulation applications methodology technology'], 1: ['journal of mechanical science and technology', 'ksme international journal'], 2: ['international journal', 'canadian bulletin of medical history', 'canadian military history', 'american review of canadian studies', 'british journal of canadian studies', 'canadian historical review'], 3: ['geodinamica acta', 'turkish journal of earth sciences', 'geological journal'], 4: ['career development quarterly', 'the counseling psychologist', 'ethics & behavior', 'journal of career assessment']}\n",
            "2006 {0: ['international review of social history', 'labour history', 'labor history', 'labor studies journal', 'labour', 'monthly review', 'capital & class'], 1: ['european accounting review', 'british accounting review', 'the international journal of accounting', 'abacus'], 2: ['victorian periodicals review', 'the wordsworth circle', 'university of toronto quarterly', 'victorian studies', 'elh', 'history of science', 'albion', 'notes and queries', 'victorian literature and culture'], 3: ['ieee transactions on dielectrics and electrical insulation', 'ieej transactions on fundamentals and materials'], 4: ['mathematical and computer modelling', 'differential equations and nonlinear mechanics', 'mathematical models and methods in applied sciences'], 5: ['cereal research communications', 'acta agronomica hungarica'], 6: ['animal production science', 'australian journal of experimental agriculture'], 7: ['international journal of qualitative studies in education', 'teachers college record', 'adult education quarterly', 'journal of urban learning teaching and research', 'qualitative inquiry', 'yearbook of the national society for the study of education', 'qualitative research in organizations and management an international journal'], 8: ['science in china series d earth sciences', 'science china earth sciences'], 9: ['environmental science and pollution research', 'journal of soils and sediments'], 10: ['journal of family studies', 'journal of child custody', 'journal of divorce & remarriage', 'family court review']}\n",
            "2007 {0: ['educational measurement issues and practice', 'race ethnicity and education', 'studies in educational evaluation', 'educational researcher', 'applied measurement in education', 'language assessment quarterly'], 1: ['sport in society', 'sport history review', 'international journal of the history of sport', 'sport in history'], 2: ['journal of cancer education', 'journal of health communication'], 3: ['the international journal of management education', 'international journal of knowledge and learning', 'international journal of innovation and learning'], 4: ['zeitschrift fur psychiatrie psychologie und psychotherapie', 'kindheit und entwicklung'], 5: ['psychotherapie psychosomatik medizinische psychologie', 'psychiatrische praxis', 'psychotherapeut'], 6: ['labour history review', 'journal of contemporary history', 'twentieth century british history', 'history of education', 'contemporary british history'], 7: ['journal of biopharmaceutical statistics', 'drug information journal', 'pharmaceutical statistics', 'biometrical journal'], 8: ['international journal of occupational safety and ergonomics', 'chemia analityczna', 'przeglad lekarski', 'polski merkuriusz lekarski organ polskiego towarzystwa lekarskiego', 'polish journal of environmental studies', 'international journal of occupational medicine and environmental health', 'medycyna pracy', 'roczniki panstwowego zakladu higieny'], 9: ['progress in electromagnetics research pier', 'journal of electromagnetic waves and applications'], 10: ['environmental science and pollution research', 'journal of soils and sediments'], 11: ['internet reference services quarterly', 'searcher the magazine for database professionals', 'journal of library administration', 'computers in libraries'], 12: ['intercultural pragmatics', 'journal of pragmatics', 'discourse processes', 'journal of politeness research language behaviour culture'], 13: ['annals of clinical and laboratory science', 'international journal of immunopathology and pharmacology', 'european journal of inflammation', 'clinical and investigative medicine', 'international journal of biological markers'], 14: ['family court review', 'journal of social welfare and family law', 'family process', 'pace law review']}\n",
            "2008 {0: ['sign language studies', 'modern fiction studies', 'literature and medicine', 'biography', 'nationalism and ethnic politics', 'social identities', 'radical history review', 'life writing'], 1: ['logopedics phoniatrics vocology', 'folia phoniatrica et logopaedica'], 2: ['geographie physique et quaternaire', 'eg quaternary science journal', 'boreas', 'quaternary geochronology'], 3: ['international journal of management and enterprise development', 'industrial management and data systems', 'international journal of services and standards', 'the international journal of management education', 'international journal of innovation and learning', 'international journal of electronic finance'], 4: ['zeitschrift fur psychiatrie psychologie und psychotherapie', 'psychiatrische praxis', 'kindheit und entwicklung'], 5: ['journal of employment counseling', 'journal of career assessment', 'international journal for educational and vocational guidance', 'the career planning and adult development journal', 'career development quarterly'], 6: ['disability and rehabilitation assistive technology', 'scoliosis', 'studies in health technology and informatics'], 7: ['zeitschrift fur psychosomatische medizin und psychotherapie', 'psychotherapie psychosomatik medizinische psychologie', 'psychotherapeut'], 8: ['accounting history review', 'accounting business and financial history', 'accounting history', 'the accounting historians journal'], 9: ['progress in electromagnetics research pier', 'international journal of rf and microwave computer aided engineering', 'journal of electromagnetic waves and applications'], 10: ['historia', 'journal of contemporary history', 'south african journal of cultural history', 'journal of natal and zulu history', 'south african historical journal', 'kronos journal of cape history', 'african studies'], 11: ['studies in mycology', 'persoonia', 'fungal diversity'], 12: ['cell transplantation', 'medical science monitor'], 13: ['archives of materials science and engineering', 'international journal of microstructure and materials properties', 'journal of achievements in materials and manufacturing engineering']}\n",
            "2009 {0: ['coloration technology', 'color research and application', 'journal of the society of dyers and colourists'], 1: ['ibis', 'bird study', 'bulletin of carnegie museum of natural history', 'journal of zoology'], 2: ['acta ortopedica brasileira', 'revista brasileira de medicina do esporte', 'brazilian journal of cardiovascular surgery', 'clinics'], 3: ['international journal of management and enterprise development', 'industrial management and data systems', 'international journal of services and standards', 'the international journal of management education', 'international journal of educational management', 'international journal of innovation and learning', 'international journal of mobile communications'], 4: ['history of political economy', 'journal of the history of ideas', 'business history', 'international journal of the history of sport', 'history of science', 'journal of interdisciplinary history', 'accounting history review', 'the economic history review', 'medical history', 'britannia', 'the british journal for the history of science'], 5: ['forensic science international genetics supplement series', 'the open forensic science journal', 'forensic science international genetics'], 6: ['journal of linguistic anthropology', 'journal of the royal anthropological institute', 'modern asian studies', 'american anthropologist', 'cultural anthropology'], 7: ['enterprise information systems', 'annals of operations research', 'systems research and behavioral science'], 8: ['journal of employment counseling', 'journal of career assessment', 'australian journal of career development', 'journal of career development', 'journal of vocational behavior', 'career development quarterly'], 9: ['mining science and technology (china)', 'journal of china university of mining and technology'], 10: ['zeitschrift fur kinder und jugendpsychiatrie und psychotherapie', 'zeitschrift fur psychiatrie psychologie und psychotherapie', 'kindheit und entwicklung'], 11: ['european journal of physical and rehabilitation medicine', 'annals of physical and rehabilitation medicine', 'physikalische medizin rehabilitationsmedizin kurortmedizin'], 12: ['progress in electromagnetics research pier', 'journal of electromagnetic waves and applications', 'progress in electromagnetics research letters', 'progress in electromagnetics research b', 'international journal of microwave science and technology'], 13: ['international journal of occupational safety and ergonomics', 'polski merkuriusz lekarski organ polskiego towarzystwa lekarskiego', 'polish journal of environmental studies', 'international journal of occupational medicine and environmental health', 'przeglad epidemiologiczny', 'medycyna pracy'], 14: ['verslas teorija ir praktika', 'the engineering economics', 'journal of business economics and management', 'economics and management', 'technological and economic development of economy'], 15: ['journal of the taiwan institute of chemical engineers', 'journal of the chinese institute of chemical engineers'], 16: ['ieee transactions on circuits and systems ii express briefs', 'ieee transactions on circuits and systems'], 17: ['wseas transactions on computers archive', 'wseas transactions on information science and applications archive', 'journal of bridge engineering'], 18: ['international journal of cognitive informatics and natural intelligence', 'international journal of software science and computational intelligence'], 19: ['european journal of inflammation', 'international journal of immunopathology and pharmacology']}\n",
            "2010 {0: ['journal of the society of dyers and colourists', 'color research and application', 'bulletin des societes chimiques belges', 'recueil des travaux chimiques des pays bas', 'international journal of peptide and protein research'], 1: ['verslas teorija ir praktika', 'archives of civil and mechanical engineering', 'mokslas lietuvos ateitis', 'the engineering economics', 'journal of business economics and management', 'international journal of strategic property management', 'technological and economic development of economy'], 2: ['archives of natural history', 'ibis', 'ostrich', 'journal of zoology', 'the transactions of the zoological society of london', 'ethology', 'bulletin of the american museum of natural history'], 3: ['asia pacific journal of education', 'russian education and society', 'africa education review', 'professional development in education', 'paedagogica historica', 'international journal of educational research', 'open learning the journal of open and distance learning', 'journal of higher education policy and management', 'international journal of bilingual education and bilingualism', 'vulnerable children and youth studies', 'journal of children and media', 'comparative education review', 'education economics', 'journal of multilingual and multicultural development', 'journal of studies in international education', 'inter asia cultural studies', 'international journal of lifelong education', 'european journal of teacher education', 'european journal of education', 'higher education in europe', 'history of education'], 4: ['universitas psychologica', 'revista latinoamericana de psicopatologia fundamental', 'estudios de psicologia', 'anales de psicologia', 'psicologia reflexao e critica', 'international journal of educational technology in higher education'], 5: ['journal of property research', 'pacific rim property research journal', 'journal of real estate practice and education', 'journal of property investment & finance', 'the journal of real estate portfolio management', 'journal of real estate finance and economics'], 6: ['zeitschrift fur psychiatrie psychologie und psychotherapie', 'kindheit und entwicklung', 'die rehabilitation', 'zeitschrift fur kinder und jugendpsychiatrie und psychotherapie', 'zeitschrift fur psychosomatische medizin und psychotherapie', 'praxis der kinderpsychologie und kinderpsychiatrie', 'psychotherapie psychosomatik medizinische psychologie', 'psychiatrische praxis'], 7: ['journal of employment counseling', 'journal of career assessment', 'international journal for educational and vocational guidance', 'journal of career development', 'career development quarterly'], 8: ['fusion science and technology', 'plasma and fusion research'], 9: ['animal blood groups and biochemical genetics', 'journal of veterinary medicine series a physiology pathology clinical medicine', 'journal of animal breeding and genetics', 'journal of animal physiology and animal nutrition'], 10: ['chinese journal of geophysics', 'earthquake spectra', 'bulletin of the seismological society of america', 'seismology and geology', 'gsa today'], 11: ['international journal of occupational safety and ergonomics', 'chemia analityczna', 'przeglad lekarski', 'polski merkuriusz lekarski organ polskiego towarzystwa lekarskiego', 'polish journal of environmental studies', 'przeglad epidemiologiczny', 'international journal of occupational medicine and environmental health', 'medycyna pracy', 'roczniki panstwowego zakladu higieny', 'international maritime health'], 12: ['progress in electromagnetics research pier', 'journal of electromagnetic waves and applications', 'progress in electromagnetics research letters'], 13: ['journal of the british institute of mental handicap (apex)', 'mental handicap research'], 14: ['laser physics letters', 'laser physics'], 15: ['international journal of immunopathology and pharmacology', 'european journal of inflammation'], 16: ['wseas transactions on circuits and systems archive', 'wseas transactions on systems archive', 'wseas transactions on systems and control archive'], 17: ['archives of materials science and engineering', 'journal of achievements in materials and manufacturing engineering']}\n",
            "2011 {0: ['service industries journal', 'canadian journal of administrative sciences revue canadienne des sciences de l administration', 'service business', 'management decision', 'journal of organizational behavior management', 'international entrepreneurship and management journal'], 1: ['sao paulo medical journal', 'psicologia usp', 'brazilian journal of cardiovascular surgery', 'jornal brasileiro de pneumologia', 'arquivos brasileiros de cardiologia', 'clinics', 'acta ortopedica brasileira', 'revista da associacao medica brasileira'], 2: ['acta polymerica sinica', 'chinese journal of polymer science'], 3: ['comprehensive physiology', 'apmis', 'pharmacology & toxicology', 'acta medica scandinavica'], 4: ['american eurasian journal of sustainable agriculture', 'advances in natural and applied sciences', 'ethnobotany research and applications', 'african journal of traditional complementary and alternative medicines'], 5: ['zeitschrift fur psychiatrie psychologie und psychotherapie', 'kindheit und entwicklung', 'zeitschrift fur neuropsychologie', 'zeitschrift fur psychosomatische medizin und psychotherapie', 'zeitschrift fur kinder und jugendpsychiatrie und psychotherapie', 'praxis der kinderpsychologie und kinderpsychiatrie', 'psychiatrische praxis', 'psychotherapeut'], 6: ['international journal of sensor networks', 'journal of parallel and distributed computing'], 7: ['american journal of environmental sciences', 'american journal of animal and veterinary sciences', 'journal of mathematics and statistics', 'american journal of engineering and applied sciences', 'journal of social sciences', 'journal of computer science', 'american journal of agricultural and biological sciences', 'american journal of applied sciences', 'american journal of economics and business administration'], 8: ['chronobiology international', 'biological rhythm research'], 9: ['career development quarterly', 'journal of employment counseling', 'australian journal of career development', 'journal of career development'], 10: ['progress in biochemistry and biophysics', 'science china life sciences'], 11: ['journal of the british institute of mental handicap (apex)', 'psychology crime & law', 'journal of social work', 'the journal of adult protection', 'journal of applied research in intellectual disabilities', 'mental handicap research'], 12: ['biology of sport', 'przeglad epidemiologiczny', 'international journal of occupational medicine and environmental health', 'medycyna pracy', 'international maritime health', 'roczniki panstwowego zakladu higieny', 'annals of agricultural and environmental medicine'], 13: ['progress in electromagnetics research pier', 'journal of electromagnetic waves and applications'], 14: ['european journal of inflammation', 'journal of biological regulators and homeostatic agents', 'international journal of immunopathology and pharmacology'], 15: ['transylvanian review of administrative sciences', 'revista de cercetare si interventie sociala', 'journal for the study of religions and ideologies'], 16: ['ieee transactions on evolutionary computation', 'memetic computing', 'ieee computational intelligence magazine'], 17: ['psychiatry and clinical neurosciences', 'psychogeriatrics'], 18: ['acta crystallographica section e structure reports online', 'acta crystallographica section d biological crystallography'], 19: ['asian pacific journal of tropical medicine', 'chinese journal of natural medicines', 'asian pacific journal of tropical biomedicine'], 20: ['international journal of modelling identification and control', 'international journal of bio inspired computation', 'international journal of innovative computing and applications'], 21: ['revista cefac', 'revista da sociedade brasileira de fonoaudiologia'], 22: ['international journal of cognitive informatics and natural intelligence', 'international journal of semantic computing', 'international journal of software science and computational intelligence'], 23: ['laser physics', 'laser physics letters'], 24: ['metals and materials international', 'electronic materials letters', 'korean journal of metals and materials'], 25: ['recueil des travaux chimiques des pays bas', 'organic reactions'], 26: ['sae international journal of fuels and lubricants', 'sae international journal of engines'], 27: ['archives of materials science and engineering', 'journal of achievements in materials and manufacturing engineering']}\n",
            "2012 {0: ['collection management', 'library resources & technical services', 'collection building', 'cataloging & classification quarterly'], 1: ['international journal of pharmacology', 'research journal of medicinal plant', 'research journal of phytochemistry', 'international journal of virology', 'asian journal of animal and veterinary advances', 'journal of pharmacology and toxicology', 'asian journal of animal sciences', 'journal of animal and veterinary advances'], 2: ['acta polymerica sinica', 'chinese journal of polymer science'], 3: ['pakistan veterinary journal', 'pakistan journal of agricultural sciences', 'international journal of agriculture and biology'], 4: ['bulletin of the new zealand national society for earthquake engineering', 'new zealand journal of geology and geophysics', 'seismological research letters'], 5: ['agroecology and sustainable food systems', 'journal of agrarian change', 'asia pacific viewpoint', 'canadian journal of development studies', 'yale human rights and development journal', 'village and agriculture', 'the journal of peasant studies'], 6: ['entrepreneurship and regional development', 'service industries journal', 'journal of organizational change management', 'management decision', 'european journal of international management', 'international entrepreneurship and management journal'], 7: ['ieee communications surveys and tutorials', 'international journal of sensor networks', 'international journal of security and networks'], 8: ['international journal of bio inspired computation', 'international journal of wireless and mobile computing', 'transactions of the institute of measurement and control', 'journal of computer applications in technology'], 9: ['enterprise information systems', 'information technology & management'], 10: ['international journal of mining science and technology', 'mining science and technology (china)'], 11: ['zeitschrift fur psychiatrie psychologie und psychotherapie', 'kindheit und entwicklung', 'zeitschrift fur psychosomatische medizin und psychotherapie', 'zeitschrift fur kinder und jugendpsychiatrie und psychotherapie', 'zeitschrift fur neuropsychologie', 'praxis der kinderpsychologie und kinderpsychiatrie'], 12: ['american indian culture and research journal', 'language & communication', 'journal of linguistic anthropology', 'anthropological quarterly', 'american ethnologist', 'american anthropologist'], 13: ['american journal of economics and business administration', 'journal of computer science', 'american journal of engineering and applied sciences', 'american journal of applied sciences'], 14: ['progress in biochemistry and biophysics', 'science china life sciences'], 15: ['biology of sport', 'advances in dermatology and allergology', 'przeglad epidemiologiczny', 'international journal of occupational medicine and environmental health', 'medycyna pracy', 'ginekologia polska', 'annals of agricultural and environmental medicine'], 16: ['notre dame law review', 'rabels zeitschrift fuer auslaendisches und internationales privatrecht', 'american journal of comparative law', 'journal of private international law', 'california western international law journal'], 17: ['career development quarterly', 'journal of career assessment', 'journal of career development'], 18: ['progress in electromagnetics research pier', 'journal of electromagnetic waves and applications'], 19: ['european journal of inflammation', 'dental research journal', 'journal of biological regulators and homeostatic agents', 'international journal of immunopathology and pharmacology'], 20: ['transylvanian review of administrative sciences', 'revista de cercetare si interventie sociala', 'journal for the study of religions and ideologies'], 21: ['accounting history review', 'accounting history', 'the accounting historians journal'], 22: ['journal of allergy and therapy', 'journal of food processing and technology', 'journal of aids and clinical research', 'journal of nutrition and food sciences', 'journal of antivirals & antiretrovirals', 'journal of diabetes & metabolism'], 23: ['procedia computer science', 'procedia technology', 'global journal on technology'], 24: ['asian pacific journal of tropical disease', 'international journal of pharmtech research', 'international journal of drug development and research', 'international journal of phytomedicine', 'asian pacific journal of tropical medicine', 'asian pacific journal of tropical biomedicine', 'journal of pharmacy research'], 25: ['the journal of the institute of webcasting internet and telecommunication', 'the korea academia industrial cooperation society', 'the international journal of advanced smart convergence'], 26: ['telkomnika telecommunication computing electronics and control', 'indonesian journal of electrical engineering and computer science']}\n",
            "2013 {0: ['international journal of advancements in computing technology', 'norsk geografisk tidsskrift norwegian journal of geography', 'international journal of digital content technology and its applications', 'journal of vibration and control', 'journal of networks', 'civil engineering and environmental systems', 'structural engineering and mechanics', 'scandinavian journal of hospitality and tourism', 'journal of convergence information technology', 'earthquakes and structures', 'journal of multimedia', 'wireless communications and mobile computing', 'human factors and ergonomics in manufacturing & service industries', 'international journal on advances in information sciences and service sciences'], 1: ['international journal of organizational analysis', 'international studies of management and organization', 'thunderbird international business review', 'international journal of cross cultural management', 'european journal of international management'], 2: ['the accounting educators journal', 'journal of accounting education', 'accounting education', 'issues in accounting education'], 3: ['pakistan veterinary journal', 'pakistan journal of agricultural sciences', 'international journal of agriculture and biology'], 4: ['designed monomers and polymers', 'polymer plastics technology and engineering', 'international journal of polymeric materials'], 5: ['cultural anthropology', 'american ethnologist', 'american anthropologist'], 6: ['information technology & management', 'enterprise information systems', 'systems research and behavioral science'], 7: ['kindheit und entwicklung', 'psychologische rundschau', 'zeitschrift fur erziehungswissenschaft', 'praxis der kinderpsychologie und kinderpsychiatrie', 'journal for educational research online', 'zeitschrift fur entwicklungspsychologie und padagogische psychologie'], 8: ['service industries journal', 'management decision', 'journal of business research', 'international entrepreneurship and management journal'], 9: ['ieee transactions on evolutionary computation', 'journal of heuristics', 'international journal of metaheuristics', 'evolutionary computation'], 10: ['progress in biochemistry and biophysics', 'science china life sciences'], 11: ['biology of sport', 'advances in respiratory medicine', 'zdrowie publiczne', 'przeglad epidemiologiczny', 'international journal of occupational medicine and environmental health', 'pneumonologia i alergologia polska', 'roczniki panstwowego zakladu higieny', 'medycyna pracy'], 12: ['the wordsworth circle', 'the byron journal', 'european romantic review', 'romanticism', 'keats shelley review', 'keats shelley journal', 'studies in romanticism'], 13: ['polish botanical journal', 'arctoa a jornal of bryology', 'the bryologist', 'journal of bryology'], 14: ['transylvanian review of administrative sciences', 'revista de cercetare si interventie sociala', 'revista romana de bioetica', 'journal for the study of religions and ideologies'], 15: ['journal of computers', 'journal of software'], 16: ['advances in dermatology and allergology', 'postepy dermatologii i alergologii', 'annals of agricultural and environmental medicine'], 17: ['international journal of immunopathology and pharmacology', 'journal of biological regulators and homeostatic agents', 'european journal of inflammation'], 18: ['international journal of mental health nursing', 'issues in mental health nursing'], 19: ['globalizations', 'canadian journal of development studies', 'the journal of peasant studies', 'development and change'], 20: ['european journal of information systems', 'french journal of management information systems'], 21: ['inland waters', 'journal of great lakes research'], 22: ['information technology journal', 'research journal of information technology'], 23: ['government information quarterly', 'journal of sustainable development', 'information polity'], 24: ['asian pacific journal of tropical medicine', 'asian pacific journal of tropical disease', 'asian pacific journal of tropical biomedicine', 'journal of acute disease'], 25: ['iranian journal of kidney diseases', 'journal of nephropathology'], 26: ['arxiv learning', 'arxiv machine learning'], 27: ['the journal of the institute of webcasting internet and telecommunication', 'international journal of software engineering and its applications', 'international journal of smart home', 'the korea academia industrial cooperation society'], 28: ['international journal of automotive and mechanical engineering', 'journal of mechanical engineering and sciences']}\n",
            "2014 {0: ['pakistan veterinary journal', 'pakistan journal of agricultural sciences', 'international journal of agriculture and biology'], 1: ['polymer plastics technology and engineering', 'designed monomers and polymers', 'international journal of polymeric materials'], 2: ['enterprise information systems', 'information technology & management', 'systems research and behavioral science'], 3: ['circulo de linguistica aplicada a la comunicacion', 'recall', 'the calico journal', 'teaching english with technology', 'computer assisted language learning'], 4: ['journal of personal selling and sales management', 'journal of marketing education', 'american journal of business and management', 'journal of financial services marketing', 'industrial marketing management'], 5: ['fixed point theory and applications', 'journal of inequalities and applications', 'advances in fixed point theory', 'rendiconti del circolo matematico di palermo'], 6: ['the wordsworth circle', 'the byron journal', 'european romantic review', 'romanticism', 'keats shelley review', 'keats shelley journal', 'studies in romanticism'], 7: ['informatics for health & social care', 'applied clinical informatics', 'methods of information in medicine'], 8: ['journal of computers', 'journal of software'], 9: ['the bryologist', 'polish botanical journal', 'acta musei silesiae scientiae naturales', 'herzogia', 'north american fungi', 'arctoa a jornal of bryology'], 10: ['plasma science & technology', 'journal of fusion energy', 'journal of nuclear and particle physics'], 11: ['journal of environment and earth science', 'journal of medicine physiology and biophysics', 'international journal of biomedicine', 'biochemistry (moscow) supplement series b biomedical chemistry', 'chemical and process engineering research', 'journal of natural sciences research', 'mathematical theory and modeling', 'journal of health medicine and nursing'], 12: ['journal of artificial intelligence', 'research journal of information technology'], 13: ['international journal of information technology and computer science', 'international journal of engineering and manufacturing', 'international journal of intelligent systems and applications', 'international journal of information engineering and electronic business', 'international journal of modern education and computer science'], 14: ['arxiv learning', 'arxiv machine learning'], 15: ['contemporary engineering sciences', 'advanced studies in theoretical physics', 'applied mathematical sciences'], 16: ['journal of security and sustainability issues', 'entrepreneurship and sustainability issues'], 17: ['international journal of automotive and mechanical engineering', 'journal of mechanical engineering and sciences']}\n",
            "2015 {0: ['journal of accounting education', 'accounting education', 'issues in accounting education'], 1: ['solid earth discussions', 'journal of sustainable mining', 'geologica carpathica', 'advances in environmental biology', 'archives of mining sciences', 'open journal of geology'], 2: ['language & communication', 'journal of linguistic anthropology', 'journal of social archaeology', 'latin american antiquity', 'american ethnologist', 'american anthropologist', 'analytic philosophy', 'cultural anthropology', 'language sciences'], 3: ['romanticism and victorianism on the net', 'essays in romanticism', 'the byron journal', 'european romantic review', 'romanticism', 'keats shelley review', 'eighteenth century studies', 'notes and queries', 'keats shelley journal', 'studies in romanticism'], 4: ['applied clinical informatics', 'methods of information in medicine'], 5: ['journal of interdisciplinary history', 'international studies quarterly'], 6: ['journal of molecular and genetic medicine', 'journal of analytical and bioanalytical techniques', 'molecular biology', 'journal of alzheimers disease & parkinsonism', 'international journal of neurorehabilitation', 'journal of allergy and therapy', 'journal of pigmentary disorders', 'journal of obesity and weight loss therapy', 'research and reviews journal of medical and health sciences', 'journal of pharmacovigilance', 'omics journal of radiology', 'international journal of school and cognitive psychology', 'journal of nutrition and food sciences', 'mycobacterial diseases', 'journal of clinical trials', 'journal of antivirals & antiretrovirals', 'journal of microbial & biochemical technology', 'journal of child and adolescent behaviour', 'journal of gerontology and geriatric research', 'journal of palliative care & medicine', 'journal of depression & anxiety', 'journal of infectious diseases and therapy', 'journal of child and adolescent behavior', 'experimental pathology', 'primary health care', 'journal of pain and relief', 'endocrinology and metabolic syndrome', 'journal of chromatography & separation techniques', 'journal of tropical diseases & public health', 'journal of ergonomics', 'journal of oral hygiene & health', 'journal of forensic research', 'journal of metabolic syndrome', 'journal of medical microbiology and diagnosis', 'journal of community medicine & health education', 'gynecology & obstetrics', 'journal of mass communication and journalism', 'research and reviews journal of microbiology and biotechnology', 'autism open access', 'journal of bioanalysis & biomedicine', 'occupational medicine and health affairs', 'journal of gastrointestinal and digestive system', 'journal of psychology & psychotherapy', 'journal of multiple sclerosis', 'journal of bioprocessing & biotechniques', 'journal of pulmonary and respiratory medicine', 'journal of novel physiotherapies', 'tropical medicine & surgery', 'pharmaceutica analytica acta', 'journal of nuclear medicine and radiation therapy', 'journal of addiction research and therapy', 'journal of developing drugs', 'journal of thyroid disorders & therapy', 'research and reviews journal of pharmacology and toxicological studies', 'research & reviews journal of biology', 'journal of clinical case reports', 'journal of neurological disorders', 'pancreatic disorders & therapy', 'journal of neurology and neurophysiology', 'journal of cardiovascular diseases and diagnosis', 'journal of liver', 'journal of vaccines and vaccination', 'journal of nephrology & therapeutics', 'journal of probiotics & health', 'research and reviews journal of nursing and health sciences', 'journal of sleep disorders and therapy', 'journal of data mining in genomics & proteomics', 'advanced techniques in biology & medicine', 'research & reviews journal of botanical sciences', 'journal of leukemia', 'journal of alcoholism and drug dependence', 'journal of clinical & cellular immunology', 'journal of genetic syndromes & gene therapy'], 7: ['journal of herbmed pharmacology', 'journal of nephropharmacology', 'journal of nephropathology', 'shiraz e medical journal', 'journal of research in medical sciences', 'journal of renal injury prevention', 'journal of parathyroid disease'], 8: ['journal of environment and earth science', 'journal of medicine physiology and biophysics', 'international journal of biomedicine', 'mathematical theory and modeling', 'journal of health medicine and nursing'], 9: ['physical education of students', 'pedagogics psychology medical biological problems of physical training and sports', 'fiziceskoe vospitanie studentov'], 10: ['journal of horticulture', 'advances in crop science and technology', 'journal of plant pathology & microbiology', 'research & reviews journal of agriculture and allied sciences'], 11: ['journal of security and sustainability issues', 'entrepreneurship and sustainability issues'], 12: ['international journal of automotive and mechanical engineering', 'journal of mechanical engineering and sciences'], 13: ['research & reviews journal of engineering and technology', 'journal of petroleum & environmental biotechnology']}\n",
            "2016 {0: ['ieej journal of industry applications', 'ieej transactions on electrical and electronic engineering'], 1: ['the journal of internet banking and commerce', 'international review of management and marketing', 'international journal of economics and financial issues', 'risk governance and control financial markets & institutions', 'regional and sectoral economic studies', 'international journal of cultural policy', 'asian social science', 'international journal of environmental and science education', 'journal of sustainable development', 'forestry engineering journal', 'journal of physical education and sport', 'journal of siberian federal university', 'contemporary economics', 'pedagogics psychology medical biological problems of physical training and sports', 'business and economics journal', 'universitepark bulten', 'review of european studies', 'studies on russian economic development', 'mediterranean journal of social sciences'], 2: ['canadian journal of law and society', 'journal of film and video', 'journal of africana religions', 'biography', 'the european journal of life writing', 'south central review', 'history in africa', 'interdisciplinary journal of portuguese diaspora studies', 'life writing'], 3: ['the wordsworth circle', 'the byron journal', 'european romantic review', 'women s writing', 'keats shelley review', 'romanticism', 'keats shelley journal', 'studies in romanticism'], 4: ['translational stroke research', 'medical gas research'], 5: ['montenegrin journal of economics', 'entrepreneurship and sustainability issues', 'economics & sociology', 'the journal of international studies', 'oeconomia copernicana', 'journal of security and sustainability issues', 'equilibrium quarterly journal of economics and economic policy'], 6: ['genes and environment', 'mutation research genetic toxicology and environmental mutagenesis'], 7: ['structural engineering and mechanics', 'steel and composite structures', 'wind and structures', 'geomechanics and engineering'], 8: ['fungal diversity', 'cryptogamie mycologie', 'phytotaxa'], 9: ['computer aided engineering', 'integrated computer aided engineering'], 10: ['iucrdata', 'acta crystallographica section c crystal structure communications', 'acta crystallographica section e crystallographic communications'], 11: ['journal of obesity and weight loss therapy', 'research and reviews journal of medical and health sciences', 'journal of aids and clinical research', 'research & reviews journal of pharmacy and pharmaceutical sciences', 'journal of microbial & biochemical technology', 'journal of palliative care & medicine', 'journal of cell science and therapy', 'endocrinology and metabolic syndrome', 'journal of integrative oncology', 'journal of clinical & experimental dermatology research', 'journal of molecular biomarkers & diagnosis', 'journal of metabolic syndrome', 'research & reviews journal of pharmaceutics and nanotechnology', 'advances in pharmacoepidemiology and drug safety', 'journal of pregnancy and child health', 'the journal of nursing care', 'journal of gastrointestinal and digestive system', 'journal of novel physiotherapies', 'pharmaceutica analytica acta', 'journal of nuclear medicine and radiation therapy', 'journal of clinical toxicology', 'research and reviews journal of pharmacology and toxicological studies', 'journal of anesthesia and clinical research', 'journal of neurological disorders', 'journal of neurology and neurophysiology', 'research and reviews journal of nursing and health sciences', 'journal of pharmaceutical care & health systems', 'journal of neonatal biology', 'journal of blood disorders and transfusion', 'journal of veterinary science and technology', 'journal of leukemia', 'journal of alcoholism and drug dependence'], 12: ['journal of aquaculture research and development', 'research & reviews journal of agriculture and allied sciences', 'journal of horticulture', 'journal of climatology and weather forecasting', 'advances in crop science and technology'], 13: ['journal of medicine physiology and biophysics', 'journal of health medicine and nursing', 'advances in physics theories and applications'], 14: ['transactions of the institute of aviation', 'journal of kones', 'archives of transport', 'journal of kones powertrain and transport'], 15: ['international journal of automotive and mechanical engineering', 'journal of mechanical engineering and sciences']}\n",
            "2017 {0: ['journal of physical education and sport', 'pedagogics psychology medical biological problems of physical training and sports', 'archives of budo', 'physical education of students'], 1: ['international journal of surgery case reports', 'international journal of surgery'], 2: ['journal of accounting education', 'journal of emerging technologies in accounting', 'accounting education', 'journal of information systems', 'accounting horizons'], 3: ['iucrdata', 'acta crystallographica section b structural crystallography and crystal chemistry', 'acta crystallographica section c crystal structure communications', 'acta crystallographica section e crystallographic communications'], 4: ['journal of intelligent systems', 'international journal of intelligent systems'], 5: ['continuum mechanics and thermodynamics', 'mathematics and mechanics of solids'], 6: ['montenegrin journal of economics', 'entrepreneurship and sustainability issues', 'economics & sociology', 'the journal of international studies', 'oeconomia copernicana', 'equilibrium quarterly journal of economics and economic policy'], 7: ['oncology', 'digestive diseases', 'liver cancer'], 8: ['mitochondrial dna part b', 'mitochondrial dna', 'animal cells and systems'], 9: ['journal of cancer science & therapy', 'journal of spine', 'journal of clinical case reports', 'international journal of cardiovascular research', 'journal of neurological disorders', 'journal of sleep disorders treatment and care', 'journal of alzheimers disease & parkinsonism', 'research and reviews journal of medical and health sciences', 'journal of integrative oncology', 'journal of clinical & experimental oncology'], 10: ['the annual report of educational psychology in japan', 'japanese journal of educational psychology', 'japanese psychological research', 'the japanese journal of personality', 'japanese journal of psychology'], 11: ['international journal of biometrics', 'the journal of men s studies', 'international business research', 'international journal of business administration'], 12: ['meditari accountancy research', 'south african journal of economic and management sciences', 'accounting and finance', 'accounting research journal'], 13: ['south african journal of enology and viticulture', 'vitis journal of grapevine research'], 14: ['international journal of automotive and mechanical engineering', 'journal of mechanical engineering and sciences'], 15: ['journal of pregnancy and child health', 'research and reviews journal of nursing and health sciences'], 16: ['open journal of marine science', 'open journal of geology']}\n",
            "2018 {0: ['physical education of students', 'pedagogics psychology medical biological problems of physical training and sports', 'journal of human sport and exercise', 'journal of physical education and sport', 'archives of budo'], 1: ['international journal of surgery case reports', 'annals of medicine and surgery', 'international journal of surgery'], 2: ['digital applications in archaeology and cultural heritage', 'focaal', 'journal of linguistic anthropology', 'anthropological quarterly', 'comparative studies in society and history', 'journal of the royal anthropological institute', 'social anthropology', 'world archaeology', 'signs and society', 'public culture', 'american ethnologist', 'american anthropologist', 'critique of anthropology', 'cultural anthropology', 'hau the journal of ethnographic theory', 'the journal of architecture', 'vibrant virtual brazilian anthropology'], 3: ['journal of policy history', 'journal of interdisciplinary history', 'journal of contemporary history'], 4: ['journal of the korean medical association', 'archives of plastic surgery', 'archives of craniofacial surgery'], 5: ['acta crystallographica section b structural crystallography and crystal chemistry', 'acta crystallographica section e crystallographic communications'], 6: ['journal of intelligent systems', 'international journal of intelligent systems'], 7: ['empirical software engineering', 'acm transactions on software engineering and methodology'], 8: ['journal of information and optimization sciences', 'journal of interdisciplinary mathematics', 'journal of discrete mathematical sciences and cryptography', 'journal of statistics and management systems'], 9: ['asia pacific journal of multimedia services convergent with art humanities and sociology', 'the korea academia industrial cooperation society', 'journal of the korea academia industrial cooperation society', 'journal of korean academy of nursing administration']}\n",
            "2019 {0: ['international journal of surgery case reports', 'annals of medicine and surgery', 'international journal of surgery'], 1: ['social analysis', 'focaal', 'africa', 'journal of the royal anthropological institute', 'ethnos', 'social anthropology', 'critique of anthropology'], 2: ['finance research letters', 'international journal of theoretical and applied finance', 'australian economic review', 'economics letters', 'global economy journal', 'studies in business and economics'], 3: ['regulation & governance', 'annals of the american academy of political and social science'], 4: ['iucrdata', 'crystallography reviews'], 5: ['journal of low frequency noise vibration and active control', 'thermal science'], 6: ['journal of information and optimization sciences', 'journal of discrete mathematical sciences and cryptography']}\n"
          ]
        }
      ]
    },
    {
      "cell_type": "code",
      "source": [
        "# Calculate precision and recall per pair sharing at least 1 journal for each pair in a given year\n",
        "\n",
        "metrics_table = pd.DataFrame(columns = ['year','jcr_group','cidre_group','precision','recall','detected'])\n",
        "plot_data_orange = dict({'year':[],'jcr_group':[]})\n",
        "plot_data_goldenrod = dict({'year':[],'jcr_group':[]})\n",
        "plot_data_wheat = dict({'year':[],'jcr_group':[]})\n",
        "\n",
        "overall = 0\n",
        "\n",
        "for year in range(2000,2020):\n",
        "  \n",
        "  for index, row in JCR_cartels_yearly[::-1].iterrows():\n",
        "    overall_detected = False\n",
        "\n",
        "    for cidre_group in list(cidre_groups[year].values()):\n",
        "      detected = False\n",
        "      ci = set(cidre_group)\n",
        "      jcr = set(row['Cartel'])\n",
        "\n",
        "      if ci & jcr:\n",
        "        precision = len(ci.intersection(jcr)) / len(ci)\n",
        "        recall = len(ci.intersection(jcr)) / len(jcr)\n",
        "\n",
        "        if precision >= 0.5 and len(ci.intersection(jcr)) >= 2:\n",
        "          detected = True\n",
        "          overall_detected = True\n",
        "\n",
        "          if year >=2010:\n",
        "            if precision >= 0.9:\n",
        "              plot_data_orange['year'].append(year)\n",
        "              plot_data_orange['jcr_group'].append(row['Group_ID'])\n",
        "\n",
        "            elif precision >= 0.7:\n",
        "              plot_data_goldenrod['year'].append(year)\n",
        "              plot_data_goldenrod['jcr_group'].append(row['Group_ID'])\n",
        "\n",
        "            else:\n",
        "              plot_data_wheat['year'].append(year)\n",
        "              plot_data_wheat['jcr_group'].append(row['Group_ID'])\n",
        "\n",
        "        pair_data = {'year':year,'jcr_group':list(jcr),'cidre_group':list(ci),'precision':precision,'recall':recall,'detected':detected}\n",
        "        metrics_table = metrics_table.append(pair_data, ignore_index=True)\n",
        "\n",
        "    if overall_detected == True:\n",
        "      overall += 1\n",
        "\n",
        "print(len(JCR_cartels_yearly.index))\n",
        "\n",
        "print(metrics_table)\n",
        "print(\"\")\n",
        "print(\"Overall, CIDRE detected: \"+ str(overall) + \" groups out of the 22 JCR groups at least once.\")"
      ],
      "metadata": {
        "id": "oolXjC99rmGC",
        "colab": {
          "base_uri": "https://localhost:8080/"
        },
        "outputId": "40bf6219-9726-43cf-808f-3d642b4993cb"
      },
      "execution_count": 17,
      "outputs": [
        {
          "output_type": "stream",
          "name": "stdout",
          "text": [
            "22\n",
            "    year  \\\n",
            "0   2007   \n",
            "1   2007   \n",
            "2   2007   \n",
            "3   2008   \n",
            "4   2008   \n",
            "5   2008   \n",
            "6   2008   \n",
            "7   2009   \n",
            "8   2009   \n",
            "9   2009   \n",
            "10  2009   \n",
            "11  2009   \n",
            "12  2009   \n",
            "13  2010   \n",
            "14  2010   \n",
            "15  2010   \n",
            "16  2011   \n",
            "17  2011   \n",
            "18  2011   \n",
            "19  2011   \n",
            "20  2011   \n",
            "21  2011   \n",
            "22  2011   \n",
            "23  2011   \n",
            "24  2012   \n",
            "25  2012   \n",
            "26  2012   \n",
            "27  2012   \n",
            "28  2012   \n",
            "29  2012   \n",
            "30  2012   \n",
            "31  2012   \n",
            "32  2012   \n",
            "33  2013   \n",
            "34  2013   \n",
            "35  2013   \n",
            "36  2013   \n",
            "37  2013   \n",
            "38  2013   \n",
            "39  2013   \n",
            "40  2013   \n",
            "41  2014   \n",
            "42  2014   \n",
            "43  2014   \n",
            "44  2014   \n",
            "45  2015   \n",
            "46  2016   \n",
            "47  2017   \n",
            "\n",
            "                                                                                                                                                      jcr_group  \\\n",
            "0   [zeitschrift fur psychosomatische medizin und psychotherapie, zeitschrift fur psychiatrie psychologie und psychotherapie]                                     \n",
            "1   [progress in electromagnetics research pier, journal of electromagnetic waves and applications]                                                               \n",
            "2   [international journal of immunopathology and pharmacology, journal of biological regulators and homeostatic agents, european journal of inflammation]        \n",
            "3   [zeitschrift fur psychosomatische medizin und psychotherapie, zeitschrift fur psychiatrie psychologie und psychotherapie]                                     \n",
            "4   [zeitschrift fur psychosomatische medizin und psychotherapie, zeitschrift fur psychiatrie psychologie und psychotherapie]                                     \n",
            "5   [progress in electromagnetics research pier, journal of electromagnetic waves and applications]                                                               \n",
            "6   [the scientific world journal, cell transplantation, medical science monitor]                                                                                 \n",
            "7   [information technology & management, ieee transactions on industrial informatics, enterprise information systems, systems research and behavioral science]   \n",
            "8   [enterprise information systems, international journal of production economics, systems research and behavioral science]                                      \n",
            "9   [zeitschrift fur psychosomatische medizin und psychotherapie, zeitschrift fur psychiatrie psychologie und psychotherapie]                                     \n",
            "10  [progress in electromagnetics research pier, journal of electromagnetic waves and applications]                                                               \n",
            "11  [jornal brasileiro de pneumologia, acta ortopedica brasileira, revista da associacao medica brasileira, clinics]                                              \n",
            "12  [international journal of immunopathology and pharmacology, journal of biological regulators and homeostatic agents, european journal of inflammation]        \n",
            "13  [zeitschrift fur psychosomatische medizin und psychotherapie, zeitschrift fur psychiatrie psychologie und psychotherapie]                                     \n",
            "14  [progress in electromagnetics research pier, journal of electromagnetic waves and applications]                                                               \n",
            "15  [international journal of immunopathology and pharmacology, journal of biological regulators and homeostatic agents, european journal of inflammation]        \n",
            "16  [journal of ceramic processing research, korean journal of metals and materials]                                                                              \n",
            "17  [postepy dermatologii i alergologii, annals of agricultural and environmental medicine]                                                                       \n",
            "18  [zeitschrift fur psychosomatische medizin und psychotherapie, zeitschrift fur psychiatrie psychologie und psychotherapie]                                     \n",
            "19  [service industries journal, management decision, international entrepreneurship and management journal]                                                      \n",
            "20  [progress in biochemistry and biophysics, science china life sciences]                                                                                        \n",
            "21  [progress in electromagnetics research pier, journal of electromagnetic waves and applications]                                                               \n",
            "22  [jornal brasileiro de pneumologia, acta ortopedica brasileira, revista da associacao medica brasileira, clinics]                                              \n",
            "23  [international journal of immunopathology and pharmacology, journal of biological regulators and homeostatic agents, european journal of inflammation]        \n",
            "24  [pakistan veterinary journal, international journal of agriculture and biology]                                                                               \n",
            "25  [information technology & management, ieee transactions on industrial informatics, enterprise information systems, systems research and behavioral science]   \n",
            "26  [postepy dermatologii i alergologii, annals of agricultural and environmental medicine]                                                                       \n",
            "27  [enterprise information systems, international journal of production economics, systems research and behavioral science]                                      \n",
            "28  [zeitschrift fur psychosomatische medizin und psychotherapie, zeitschrift fur psychiatrie psychologie und psychotherapie]                                     \n",
            "29  [service industries journal, management decision, international entrepreneurship and management journal]                                                      \n",
            "30  [progress in biochemistry and biophysics, science china life sciences]                                                                                        \n",
            "31  [progress in electromagnetics research pier, journal of electromagnetic waves and applications]                                                               \n",
            "32  [international journal of immunopathology and pharmacology, journal of biological regulators and homeostatic agents, european journal of inflammation]        \n",
            "33  [journal of vibration and control, human factors and ergonomics in manufacturing and service industries]                                                      \n",
            "34  [pakistan veterinary journal, international journal of agriculture and biology]                                                                               \n",
            "35  [information technology & management, ieee transactions on industrial informatics, enterprise information systems, systems research and behavioral science]   \n",
            "36  [postepy dermatologii i alergologii, annals of agricultural and environmental medicine]                                                                       \n",
            "37  [enterprise information systems, international journal of production economics, systems research and behavioral science]                                      \n",
            "38  [service industries journal, management decision, international entrepreneurship and management journal]                                                      \n",
            "39  [progress in biochemistry and biophysics, science china life sciences]                                                                                        \n",
            "40  [international journal of immunopathology and pharmacology, journal of biological regulators and homeostatic agents, european journal of inflammation]        \n",
            "41  [applied clinical informatics, methods of information in medicine]                                                                                            \n",
            "42  [pakistan veterinary journal, international journal of agriculture and biology]                                                                               \n",
            "43  [information technology & management, ieee transactions on industrial informatics, enterprise information systems, systems research and behavioral science]   \n",
            "44  [enterprise information systems, international journal of production economics, systems research and behavioral science]                                      \n",
            "45  [applied clinical informatics, methods of information in medicine]                                                                                            \n",
            "46  [translational stroke research, medical gas research]                                                                                                         \n",
            "47  [oncology, digestive diseases, liver cancer]                                                                                                                  \n",
            "\n",
            "                                                                                                                                                                                                                                                                                                                                                                                                                                                                                                                                                                                                                                                                                             cidre_group  \\\n",
            "0   [zeitschrift fur psychiatrie psychologie und psychotherapie, kindheit und entwicklung]                                                                                                                                                                                                                                                                                                                                                                                                                                                                                                                                                                                                                 \n",
            "1   [progress in electromagnetics research pier, journal of electromagnetic waves and applications]                                                                                                                                                                                                                                                                                                                                                                                                                                                                                                                                                                                                        \n",
            "2   [annals of clinical and laboratory science, international journal of immunopathology and pharmacology, european journal of inflammation, clinical and investigative medicine, international journal of biological markers]                                                                                                                                                                                                                                                                                                                                                                                                                                                                             \n",
            "3   [psychiatrische praxis, zeitschrift fur psychiatrie psychologie und psychotherapie, kindheit und entwicklung]                                                                                                                                                                                                                                                                                                                                                                                                                                                                                                                                                                                          \n",
            "4   [zeitschrift fur psychosomatische medizin und psychotherapie, psychotherapie psychosomatik medizinische psychologie, psychotherapeut]                                                                                                                                                                                                                                                                                                                                                                                                                                                                                                                                                                  \n",
            "5   [progress in electromagnetics research pier, international journal of rf and microwave computer aided engineering, journal of electromagnetic waves and applications]                                                                                                                                                                                                                                                                                                                                                                                                                                                                                                                                  \n",
            "6   [cell transplantation, medical science monitor]                                                                                                                                                                                                                                                                                                                                                                                                                                                                                                                                                                                                                                                        \n",
            "7   [enterprise information systems, annals of operations research, systems research and behavioral science]                                                                                                                                                                                                                                                                                                                                                                                                                                                                                                                                                                                               \n",
            "8   [enterprise information systems, annals of operations research, systems research and behavioral science]                                                                                                                                                                                                                                                                                                                                                                                                                                                                                                                                                                                               \n",
            "9   [zeitschrift fur kinder und jugendpsychiatrie und psychotherapie, zeitschrift fur psychiatrie psychologie und psychotherapie, kindheit und entwicklung]                                                                                                                                                                                                                                                                                                                                                                                                                                                                                                                                                \n",
            "10  [progress in electromagnetics research pier, journal of electromagnetic waves and applications, progress in electromagnetics research letters, progress in electromagnetics research b, international journal of microwave science and technology]                                                                                                                                                                                                                                                                                                                                                                                                                                                     \n",
            "11  [acta ortopedica brasileira, revista brasileira de medicina do esporte, brazilian journal of cardiovascular surgery, clinics]                                                                                                                                                                                                                                                                                                                                                                                                                                                                                                                                                                          \n",
            "12  [international journal of immunopathology and pharmacology, european journal of inflammation]                                                                                                                                                                                                                                                                                                                                                                                                                                                                                                                                                                                                          \n",
            "13  [zeitschrift fur psychiatrie psychologie und psychotherapie, kindheit und entwicklung, die rehabilitation, zeitschrift fur kinder und jugendpsychiatrie und psychotherapie, zeitschrift fur psychosomatische medizin und psychotherapie, praxis der kinderpsychologie und kinderpsychiatrie, psychotherapie psychosomatik medizinische psychologie, psychiatrische praxis]                                                                                                                                                                                                                                                                                                                             \n",
            "14  [progress in electromagnetics research pier, journal of electromagnetic waves and applications, progress in electromagnetics research letters]                                                                                                                                                                                                                                                                                                                                                                                                                                                                                                                                                         \n",
            "15  [european journal of inflammation, international journal of immunopathology and pharmacology]                                                                                                                                                                                                                                                                                                                                                                                                                                                                                                                                                                                                          \n",
            "16  [metals and materials international, electronic materials letters, korean journal of metals and materials]                                                                                                                                                                                                                                                                                                                                                                                                                                                                                                                                                                                             \n",
            "17  [biology of sport, przeglad epidemiologiczny, international journal of occupational medicine and environmental health, medycyna pracy, international maritime health, roczniki panstwowego zakladu higieny, annals of agricultural and environmental medicine]                                                                                                                                                                                                                                                                                                                                                                                                                                         \n",
            "18  [zeitschrift fur psychiatrie psychologie und psychotherapie, kindheit und entwicklung, zeitschrift fur neuropsychologie, zeitschrift fur psychosomatische medizin und psychotherapie, zeitschrift fur kinder und jugendpsychiatrie und psychotherapie, praxis der kinderpsychologie und kinderpsychiatrie, psychiatrische praxis, psychotherapeut]                                                                                                                                                                                                                                                                                                                                                     \n",
            "19  [service industries journal, canadian journal of administrative sciences revue canadienne des sciences de l administration, service business, management decision, journal of organizational behavior management, international entrepreneurship and management journal]                                                                                                                                                                                                                                                                                                                                                                                                                               \n",
            "20  [progress in biochemistry and biophysics, science china life sciences]                                                                                                                                                                                                                                                                                                                                                                                                                                                                                                                                                                                                                                 \n",
            "21  [progress in electromagnetics research pier, journal of electromagnetic waves and applications]                                                                                                                                                                                                                                                                                                                                                                                                                                                                                                                                                                                                        \n",
            "22  [sao paulo medical journal, psicologia usp, brazilian journal of cardiovascular surgery, jornal brasileiro de pneumologia, arquivos brasileiros de cardiologia, clinics, acta ortopedica brasileira, revista da associacao medica brasileira]                                                                                                                                                                                                                                                                                                                                                                                                                                                          \n",
            "23  [international journal of immunopathology and pharmacology, journal of biological regulators and homeostatic agents, european journal of inflammation]                                                                                                                                                                                                                                                                                                                                                                                                                                                                                                                                                 \n",
            "24  [pakistan veterinary journal, pakistan journal of agricultural sciences, international journal of agriculture and biology]                                                                                                                                                                                                                                                                                                                                                                                                                                                                                                                                                                             \n",
            "25  [enterprise information systems, information technology & management]                                                                                                                                                                                                                                                                                                                                                                                                                                                                                                                                                                                                                                  \n",
            "26  [biology of sport, advances in dermatology and allergology, przeglad epidemiologiczny, international journal of occupational medicine and environmental health, medycyna pracy, ginekologia polska, annals of agricultural and environmental medicine]                                                                                                                                                                                                                                                                                                                                                                                                                                                 \n",
            "27  [enterprise information systems, information technology & management]                                                                                                                                                                                                                                                                                                                                                                                                                                                                                                                                                                                                                                  \n",
            "28  [zeitschrift fur psychiatrie psychologie und psychotherapie, kindheit und entwicklung, zeitschrift fur psychosomatische medizin und psychotherapie, zeitschrift fur neuropsychologie, zeitschrift fur kinder und jugendpsychiatrie und psychotherapie, praxis der kinderpsychologie und kinderpsychiatrie]                                                                                                                                                                                                                                                                                                                                                                                             \n",
            "29  [entrepreneurship and regional development, service industries journal, journal of organizational change management, management decision, european journal of international management, international entrepreneurship and management journal]                                                                                                                                                                                                                                                                                                                                                                                                                                                         \n",
            "30  [progress in biochemistry and biophysics, science china life sciences]                                                                                                                                                                                                                                                                                                                                                                                                                                                                                                                                                                                                                                 \n",
            "31  [progress in electromagnetics research pier, journal of electromagnetic waves and applications]                                                                                                                                                                                                                                                                                                                                                                                                                                                                                                                                                                                                        \n",
            "32  [international journal of immunopathology and pharmacology, dental research journal, journal of biological regulators and homeostatic agents, european journal of inflammation]                                                                                                                                                                                                                                                                                                                                                                                                                                                                                                                        \n",
            "33  [international journal of advancements in computing technology, international journal of digital content technology and its applications, journal of vibration and control, journal of networks, civil engineering and environmental systems, structural engineering and mechanics, scandinavian journal of hospitality and tourism, journal of convergence information technology, earthquakes and structures, wireless communications and mobile computing, journal of multimedia, norsk geografisk tidsskrift norwegian journal of geography, human factors and ergonomics in manufacturing & service industries, international journal on advances in information sciences and service sciences]   \n",
            "34  [pakistan veterinary journal, pakistan journal of agricultural sciences, international journal of agriculture and biology]                                                                                                                                                                                                                                                                                                                                                                                                                                                                                                                                                                             \n",
            "35  [information technology & management, systems research and behavioral science, enterprise information systems]                                                                                                                                                                                                                                                                                                                                                                                                                                                                                                                                                                                         \n",
            "36  [advances in dermatology and allergology, postepy dermatologii i alergologii, annals of agricultural and environmental medicine]                                                                                                                                                                                                                                                                                                                                                                                                                                                                                                                                                                       \n",
            "37  [information technology & management, systems research and behavioral science, enterprise information systems]                                                                                                                                                                                                                                                                                                                                                                                                                                                                                                                                                                                         \n",
            "38  [service industries journal, management decision, journal of business research, international entrepreneurship and management journal]                                                                                                                                                                                                                                                                                                                                                                                                                                                                                                                                                                 \n",
            "39  [progress in biochemistry and biophysics, science china life sciences]                                                                                                                                                                                                                                                                                                                                                                                                                                                                                                                                                                                                                                 \n",
            "40  [european journal of inflammation, journal of biological regulators and homeostatic agents, international journal of immunopathology and pharmacology]                                                                                                                                                                                                                                                                                                                                                                                                                                                                                                                                                 \n",
            "41  [applied clinical informatics, methods of information in medicine, informatics for health & social care]                                                                                                                                                                                                                                                                                                                                                                                                                                                                                                                                                                                               \n",
            "42  [pakistan veterinary journal, pakistan journal of agricultural sciences, international journal of agriculture and biology]                                                                                                                                                                                                                                                                                                                                                                                                                                                                                                                                                                             \n",
            "43  [enterprise information systems, information technology & management, systems research and behavioral science]                                                                                                                                                                                                                                                                                                                                                                                                                                                                                                                                                                                         \n",
            "44  [enterprise information systems, information technology & management, systems research and behavioral science]                                                                                                                                                                                                                                                                                                                                                                                                                                                                                                                                                                                         \n",
            "45  [methods of information in medicine, applied clinical informatics]                                                                                                                                                                                                                                                                                                                                                                                                                                                                                                                                                                                                                                     \n",
            "46  [translational stroke research, medical gas research]                                                                                                                                                                                                                                                                                                                                                                                                                                                                                                                                                                                                                                                  \n",
            "47  [oncology, digestive diseases, liver cancer]                                                                                                                                                                                                                                                                                                                                                                                                                                                                                                                                                                                                                                                           \n",
            "\n",
            "    precision    recall detected  \n",
            "0   0.500000   0.500000  False    \n",
            "1   1.000000   1.000000  True     \n",
            "2   0.400000   0.666667  False    \n",
            "3   0.333333   0.500000  False    \n",
            "4   0.333333   0.500000  False    \n",
            "5   0.666667   1.000000  True     \n",
            "6   1.000000   0.666667  True     \n",
            "7   0.666667   0.500000  True     \n",
            "8   0.666667   0.666667  True     \n",
            "9   0.333333   0.500000  False    \n",
            "10  0.400000   1.000000  False    \n",
            "11  0.500000   0.500000  True     \n",
            "12  1.000000   0.666667  True     \n",
            "13  0.250000   1.000000  False    \n",
            "14  0.666667   1.000000  True     \n",
            "15  1.000000   0.666667  True     \n",
            "16  0.333333   0.500000  False    \n",
            "17  0.142857   0.500000  False    \n",
            "18  0.250000   1.000000  False    \n",
            "19  0.500000   1.000000  True     \n",
            "20  1.000000   1.000000  True     \n",
            "21  1.000000   1.000000  True     \n",
            "22  0.500000   1.000000  True     \n",
            "23  1.000000   1.000000  True     \n",
            "24  0.666667   1.000000  True     \n",
            "25  1.000000   0.500000  True     \n",
            "26  0.142857   0.500000  False    \n",
            "27  0.500000   0.333333  False    \n",
            "28  0.333333   1.000000  False    \n",
            "29  0.500000   1.000000  True     \n",
            "30  1.000000   1.000000  True     \n",
            "31  1.000000   1.000000  True     \n",
            "32  0.750000   1.000000  True     \n",
            "33  0.071429   0.500000  False    \n",
            "34  0.666667   1.000000  True     \n",
            "35  1.000000   0.750000  True     \n",
            "36  0.666667   1.000000  True     \n",
            "37  0.666667   0.666667  True     \n",
            "38  0.750000   1.000000  True     \n",
            "39  1.000000   1.000000  True     \n",
            "40  1.000000   1.000000  True     \n",
            "41  0.666667   1.000000  True     \n",
            "42  0.666667   1.000000  True     \n",
            "43  1.000000   0.750000  True     \n",
            "44  0.666667   0.666667  True     \n",
            "45  1.000000   1.000000  True     \n",
            "46  1.000000   1.000000  True     \n",
            "47  1.000000   1.000000  True     \n",
            "\n",
            "Overall, CIDRE detected: 34 groups out of the 22 JCR groups at least once.\n"
          ]
        }
      ]
    },
    {
      "cell_type": "markdown",
      "source": [
        "Let's recereate Figure 2 (a) as mentioned before, but this time with the overlap included. I have been in touch with the authors who have confirmed that Figure 2 (a) in their paper should scale from 2010 to 2018 as the plot below does. Keep in mind also that the vertical reordering differences are not erroneous as the authors and I have simply labelled the JCR groups with different IDs. This below plot is truncated to the range $[2010,2018]$ so as to more easily match the Figure in the paper."
      ],
      "metadata": {
        "id": "26K2ic13HCLb"
      }
    },
    {
      "cell_type": "code",
      "source": [
        "plt.rcParams[\"figure.figsize\"] = [8, 8]\n",
        "plt.rcParams.update({'font.size': 10})\n",
        "plt.scatter(plot_data_wheat['year'],plot_data_wheat['jcr_group'],facecolors='wheat', edgecolors='black',s = 100,linewidth=2)\n",
        "plt.scatter(plot_data_goldenrod['year'],plot_data_goldenrod['jcr_group'],facecolors='goldenrod', edgecolors='black',s = 100,linewidth=2)\n",
        "plt.scatter(plot_data_orange['year'],plot_data_orange['jcr_group'],facecolors='orange', edgecolors='black',s = 100,linewidth=2)\n",
        "plt.scatter(JCR_cartels_yearly['Year'],JCR_cartels_yearly['Group_ID'],facecolors='none', edgecolors='blue',s = 100,linewidth=3)\n",
        "plt.yticks(range(1,23),labels = JCR_cartels_yearly['Group_ID_text'])\n",
        "plt.title(\"Figure 2 (a): Groups Suspended from JCR\")\n",
        "plt.xlabel(\"Year\")\n",
        "plt.ylabel(\"Groups Suspended from JCR\")\n",
        "plt.show()"
      ],
      "metadata": {
        "colab": {
          "base_uri": "https://localhost:8080/",
          "height": 525
        },
        "id": "EKwD89sjHZhw",
        "outputId": "ea6eff7e-643e-4617-a1a3-f7106dd6f450"
      },
      "execution_count": 18,
      "outputs": [
        {
          "output_type": "display_data",
          "data": {
            "text/plain": [
              "<Figure size 576x576 with 1 Axes>"
            ],
            "image/png": "[encoded data removed]"
          },
          "metadata": {
            "needs_background": "light"
          }
        }
      ]
    },
    {
      "cell_type": "markdown",
      "source": [
        "The number of groups detected each year, size of groups, and overlap compared with JCR have proven to be identical. Here, we have effectively validated the works of the authors by replicating the same methodology and generating identical results. We can now move on to improving CIDRE."
      ],
      "metadata": {
        "id": "NCy6LCg2A7Yn"
      }
    }
  ],
  "metadata": {
    "colab": {
      "collapsed_sections": [],
      "name": "Replicate_Experiments.ipynb",
      "provenance": [],
      "machine_shape": "hm"
    },
    "jupytext": {
      "encoding": "# -*- coding: utf-8 -*-"
    },
    "kernelspec": {
      "display_name": "Python 3",
      "language": "python",
      "name": "python3"
    },
    "gpuClass": "standard",
    "accelerator": "TPU"
  },
  "nbformat": 4,
  "nbformat_minor": 0
}